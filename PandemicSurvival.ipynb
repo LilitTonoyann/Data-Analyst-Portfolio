{
 "cells": [
  {
   "cell_type": "markdown",
   "metadata": {},
   "source": [
    "<h1>Final Project\n",
    "</h1>"
   ]
  },
  {
   "cell_type": "markdown",
   "metadata": {},
   "source": [
    "<div class=\"alert alert-block alert-info\">\n",
    "    \n",
    "# Index<a class=\"anchor\"><a id='menu'></a><br>\n",
    "* [<font color='#E8800A'>Introduction</font>](#first-bullet) <br>\n",
    "- [<font color='#E8800A'>Exploratory Analysis</font>](#second-bullet)<br>\n",
    "- [<font color='#E8800A'>Preprocessing</font>](#third-bullet)<br>\n",
    "- [<font color='#E8800A'>Modeling</font>](#fourth-bullet)<br>\n",
    "- [<font color='#E8800A'>Conclusion</font>](#fifth-bullet)<br>\n",
    "    \n",
    "</div>"
   ]
  },
  {
   "cell_type": "markdown",
   "metadata": {},
   "source": [
    "# <font color='#E8800A'>Introduction</font> <a class=\"anchor\" id=\"first-bullet\"></a>\n",
    "  [Back to TOC](#menu)"
   ]
  },
  {
   "cell_type": "markdown",
   "metadata": {},
   "source": [
    "\n",
    "**Context:**\n",
    "\n",
    " \n",
    "\n",
    "In January 1st 2020, an epidemy was originated in Albuquerque, in New Mexico state, and spread on the following days to Santa Fe and Taos. It is estimated that the epidemy has already affected more than 1000 people at the end of February, with a mortality rate of more than 50%. It seems there are some groups of people more prone to survive than others and determining which people are more or less proned to survive would be a great help in order to take the necessary precautions accordingly.\n",
    "\n",
    " \n",
    "\n",
    "**Objective:**\n",
    "\n",
    " \n",
    "\n",
    "The aim of this project is to build a **predictive model** that answers the following question: **“Which are the people more likely to survive to the boolean pandemic?”**. This is a classification problem, so the objective is to build a model capable of determining if a person will or will not survive to a pandemic. We will used as **evaluation metric** the **accuracy** (defined by the professors), so our objective will be to build the best model possible, capable of maximizing the number of well classified individuals.\n",
    "\n",
    " \n",
    "\n",
    "**Provided Data:**\n",
    "\n",
    " \n",
    "\n",
    "Different variables were provided, in order to build our predictive model. The variables and respective descriptions are presented below:\n",
    "- **Patient_ID:** The unique identifier of the patient.\n",
    "- **Family_Case_ID:** The family identification.\n",
    "- **Severity:** The severity of the disease, where 1 is the lowest and 3 the highest severity.\n",
    "- **Name:** The name of the patient.\n",
    "- **Birthday_year:** The year of birthday of the patient.\n",
    "- **Parents_Siblings_Infected:** The number of parents and/or siblings infected.\n",
    "- **Partner_Children_Infected:** The number of partner and/or children infected.\n",
    "- **Medical_Expenses_Family:** The medical expenses associated to try to contain the epidemy on the family.\n",
    "- **Medical_Tent:** The medical tent where the patient is / was lodged.\n",
    "- **City:** The original city of the patient.\n",
    "- **Deceased:** Flag if the patient deceased or not with the virus (0 = No, 1 = Yes). This will be used as the target variable.\n",
    "\n",
    " \n",
    "\n",
    "It is also important to notice that the train and test data were already separated in advance so we did not have to go through that step.\n",
    "\n",
    " \n",
    "\n",
    "**Process:**\n",
    "\n",
    " \n",
    "\n",
    "We started by doing an **exploratory analysis** to better know the provided data. After that, we did the **preprocessing** of the data, including **duplicates check, incoherences check, outliers treatment and missing values treatment**. Then, we did some **feature engineering** and we ended up applying different **feature selection** techniques, in order to pick the most relevant variables for our model. Finally, different models were tried and results were compared, ending up with the best model through which the best results were obtained.\n"
   ]
  },
  {
   "cell_type": "code",
   "execution_count": 1,
   "metadata": {},
   "outputs": [
    {
     "name": "stderr",
     "output_type": "stream",
     "text": [
      "Using TensorFlow backend.\n"
     ]
    }
   ],
   "source": [
    "# Imports\n",
    "import pandas as pd\n",
    "import numpy as np\n",
    "from numpy import mean, std\n",
    "import matplotlib.pyplot as plt\n",
    "import seaborn as sns\n",
    "from collections import Counter\n",
    "import datetime\n",
    "import math\n",
    "from pandas import read_csv\n",
    "import warnings\n",
    "warnings.filterwarnings(\"ignore\")\n",
    "\n",
    "from sklearn.impute import KNNImputer\n",
    "\n",
    "from sklearn.feature_selection import SelectKBest, f_classif, RFE\n",
    "from sklearn.tree import DecisionTreeClassifier\n",
    "\n",
    "from sklearn.linear_model import RidgeClassifier, RidgeCV\n",
    "from sklearn.svm import SVC\n",
    "from sklearn.linear_model import LassoCV, LogisticRegression\n",
    "from sklearn import svm\n",
    "\n",
    "from sklearn.neighbors import KNeighborsClassifier\n",
    "from sklearn.neural_network import MLPClassifier\n",
    "from sklearn.cluster import KMeans\n",
    "\n",
    "from sklearn.ensemble import BaggingClassifier, RandomForestClassifier\n",
    "from xgboost import XGBClassifier\n",
    "\n",
    "from sklearn.metrics import auc, roc_curve\n",
    "\n",
    "from keras.models import Sequential\n",
    "from keras.layers import Dense\n",
    "from keras.wrappers.scikit_learn import KerasClassifier\n",
    "from sklearn.model_selection import cross_val_score\n",
    "from sklearn.preprocessing import LabelEncoder, StandardScaler, MinMaxScaler\n",
    "from sklearn.pipeline import Pipeline\n",
    "from sklearn.model_selection import cross_val_score, StratifiedKFold, RepeatedStratifiedKFold, StratifiedKFold, GridSearchCV, train_test_split\n",
    "from sklearn.ensemble import StackingClassifier"
   ]
  },
  {
   "cell_type": "code",
   "execution_count": 2,
   "metadata": {},
   "outputs": [],
   "source": [
    "# Import train and test data sets\n",
    "dftrain = pd.read_csv(r'./train.csv', sep=',')\n",
    "dftest = pd.read_csv(r'./test.csv', sep=',')\n",
    "\n",
    "# Create a dfOriginal in case we want to check original data after data transformations\n",
    "dforiginal = dftrain.copy(deep=True)"
   ]
  },
  {
   "cell_type": "markdown",
   "metadata": {},
   "source": [
    "# <font color='#E8800A'>Exploratory Analysis</font> <a class=\"anchor\" id=\"second-bullet\"></a>\n",
    "  [Back to Menu](#menu)"
   ]
  },
  {
   "cell_type": "markdown",
   "metadata": {},
   "source": [
    "<h3> Initial Analysis"
   ]
  },
  {
   "cell_type": "code",
   "execution_count": 3,
   "metadata": {},
   "outputs": [
    {
     "name": "stdout",
     "output_type": "stream",
     "text": [
      "The train set has 900 individuals and 11 variables\n",
      "The test set has 400 individuals and 10 variables\n",
      "The train set has 69% and the test has 30% of the total of individuals\n"
     ]
    }
   ],
   "source": [
    "# Check number of variables and observations in train and test set\n",
    "print('The train set has {} individuals and {} variables'.format(dftrain.shape[0],dftrain.shape[1]))\n",
    "print('The test set has {} individuals and {} variables'.format(dftest.shape[0],dftest.shape[1]))\n",
    "trainPerc = int(dftrain.shape[0]/(dftrain.shape[0]+dftest.shape[0])*100)\n",
    "testPerc = int(dftest.shape[0]/(dftrain.shape[0]+dftest.shape[0])*100)\n",
    "print('The train set has {}% and the test has {}% of the total of individuals'.format(trainPerc,testPerc)) "
   ]
  },
  {
   "cell_type": "code",
   "execution_count": 4,
   "metadata": {},
   "outputs": [
    {
     "data": {
      "text/plain": [
       "1    553\n",
       "0    347\n",
       "Name: Deceased, dtype: int64"
      ]
     },
     "execution_count": 4,
     "metadata": {},
     "output_type": "execute_result"
    }
   ],
   "source": [
    "# Is train set balanced?\n",
    "dftrain.Deceased.value_counts()"
   ]
  },
  {
   "cell_type": "markdown",
   "metadata": {},
   "source": [
    "The train set is **more or less balanced**. We will consider later on the possibility of applying oversampling or applying stratified methods, even having an unbalancement which is not that significant."
   ]
  },
  {
   "cell_type": "code",
   "execution_count": 5,
   "metadata": {},
   "outputs": [
    {
     "data": {
      "text/plain": [
       "Index(['Patient_ID', 'Family_Case_ID', 'Severity', 'Name', 'Birthday_year',\n",
       "       'Parents or siblings infected', 'Wife/Husband or children infected',\n",
       "       'Medical_Expenses_Family', 'Medical_Tent', 'City', 'Deceased'],\n",
       "      dtype='object')"
      ]
     },
     "execution_count": 5,
     "metadata": {},
     "output_type": "execute_result"
    }
   ],
   "source": [
    "# Check variables names on train set\n",
    "dftrain.columns"
   ]
  },
  {
   "cell_type": "code",
   "execution_count": 6,
   "metadata": {},
   "outputs": [
    {
     "data": {
      "text/plain": [
       "Index(['Patient_ID', 'Family_Case_ID', 'Severity', 'Name', 'Birthday_year',\n",
       "       'Parents or siblings infected', 'Wife/Husband or children infected',\n",
       "       'Medical_Expenses_Family', 'Medical_Tent', 'City'],\n",
       "      dtype='object')"
      ]
     },
     "execution_count": 6,
     "metadata": {},
     "output_type": "execute_result"
    }
   ],
   "source": [
    "# Check variables names on test set\n",
    "dftest.columns"
   ]
  },
  {
   "cell_type": "markdown",
   "metadata": {},
   "source": [
    "As the **names of the variables are not that easy to mention**, we decided to change them to simpler names. Also, the variables 'Parents or siblings infected' and 'Wife/Husband or children infected' **names did not correspond to their true meaning** so we changed to names corresponding to the true meaning."
   ]
  },
  {
   "cell_type": "code",
   "execution_count": 7,
   "metadata": {},
   "outputs": [],
   "source": [
    "# Change variables names\n",
    "dftrain.columns= ['ID', 'Family_ID', 'Severity', 'Name', 'Birthday_year',\n",
    "       'Parents_Children_Infected', 'Wife_Husband_Siblings_Infected',\n",
    "       'Medical_Expenses_Family', 'Medical_Tent', 'City', 'Deceased']\n",
    "\n",
    "dftest.columns= ['ID', 'Family_ID', 'Severity', 'Name', 'Birthday_year',\n",
    "       'Parents_Children_Infected', 'Wife_Husband_Siblings_Infected',\n",
    "       'Medical_Expenses_Family', 'Medical_Tent', 'City']"
   ]
  },
  {
   "cell_type": "code",
   "execution_count": 8,
   "metadata": {},
   "outputs": [
    {
     "data": {
      "text/html": [
       "<div>\n",
       "<style scoped>\n",
       "    .dataframe tbody tr th:only-of-type {\n",
       "        vertical-align: middle;\n",
       "    }\n",
       "\n",
       "    .dataframe tbody tr th {\n",
       "        vertical-align: top;\n",
       "    }\n",
       "\n",
       "    .dataframe thead th {\n",
       "        text-align: right;\n",
       "    }\n",
       "</style>\n",
       "<table border=\"1\" class=\"dataframe\">\n",
       "  <thead>\n",
       "    <tr style=\"text-align: right;\">\n",
       "      <th></th>\n",
       "      <th>ID</th>\n",
       "      <th>Family_ID</th>\n",
       "      <th>Severity</th>\n",
       "      <th>Name</th>\n",
       "      <th>Birthday_year</th>\n",
       "      <th>Parents_Children_Infected</th>\n",
       "      <th>Wife_Husband_Siblings_Infected</th>\n",
       "      <th>Medical_Expenses_Family</th>\n",
       "      <th>Medical_Tent</th>\n",
       "      <th>City</th>\n",
       "      <th>Deceased</th>\n",
       "    </tr>\n",
       "  </thead>\n",
       "  <tbody>\n",
       "    <tr>\n",
       "      <th>count</th>\n",
       "      <td>900.000000</td>\n",
       "      <td>900.000000</td>\n",
       "      <td>900.000000</td>\n",
       "      <td>900</td>\n",
       "      <td>723.000000</td>\n",
       "      <td>900.000000</td>\n",
       "      <td>900.000000</td>\n",
       "      <td>900.000000</td>\n",
       "      <td>198</td>\n",
       "      <td>898</td>\n",
       "      <td>900.000000</td>\n",
       "    </tr>\n",
       "    <tr>\n",
       "      <th>unique</th>\n",
       "      <td>NaN</td>\n",
       "      <td>NaN</td>\n",
       "      <td>NaN</td>\n",
       "      <td>899</td>\n",
       "      <td>NaN</td>\n",
       "      <td>NaN</td>\n",
       "      <td>NaN</td>\n",
       "      <td>NaN</td>\n",
       "      <td>8</td>\n",
       "      <td>3</td>\n",
       "      <td>NaN</td>\n",
       "    </tr>\n",
       "    <tr>\n",
       "      <th>top</th>\n",
       "      <td>NaN</td>\n",
       "      <td>NaN</td>\n",
       "      <td>NaN</td>\n",
       "      <td>Mr. Samuel Darnell</td>\n",
       "      <td>NaN</td>\n",
       "      <td>NaN</td>\n",
       "      <td>NaN</td>\n",
       "      <td>NaN</td>\n",
       "      <td>C</td>\n",
       "      <td>Santa Fe</td>\n",
       "      <td>NaN</td>\n",
       "    </tr>\n",
       "    <tr>\n",
       "      <th>freq</th>\n",
       "      <td>NaN</td>\n",
       "      <td>NaN</td>\n",
       "      <td>NaN</td>\n",
       "      <td>2</td>\n",
       "      <td>NaN</td>\n",
       "      <td>NaN</td>\n",
       "      <td>NaN</td>\n",
       "      <td>NaN</td>\n",
       "      <td>57</td>\n",
       "      <td>649</td>\n",
       "      <td>NaN</td>\n",
       "    </tr>\n",
       "    <tr>\n",
       "      <th>mean</th>\n",
       "      <td>450.500000</td>\n",
       "      <td>14305.827778</td>\n",
       "      <td>2.313333</td>\n",
       "      <td>NaN</td>\n",
       "      <td>1990.266943</td>\n",
       "      <td>0.380000</td>\n",
       "      <td>0.521111</td>\n",
       "      <td>895.743333</td>\n",
       "      <td>NaN</td>\n",
       "      <td>NaN</td>\n",
       "      <td>0.614444</td>\n",
       "    </tr>\n",
       "    <tr>\n",
       "      <th>std</th>\n",
       "      <td>259.951919</td>\n",
       "      <td>25418.153900</td>\n",
       "      <td>0.834223</td>\n",
       "      <td>NaN</td>\n",
       "      <td>14.523335</td>\n",
       "      <td>0.803247</td>\n",
       "      <td>1.098385</td>\n",
       "      <td>1385.829926</td>\n",
       "      <td>NaN</td>\n",
       "      <td>NaN</td>\n",
       "      <td>0.486997</td>\n",
       "    </tr>\n",
       "    <tr>\n",
       "      <th>min</th>\n",
       "      <td>1.000000</td>\n",
       "      <td>345.000000</td>\n",
       "      <td>1.000000</td>\n",
       "      <td>NaN</td>\n",
       "      <td>1940.000000</td>\n",
       "      <td>0.000000</td>\n",
       "      <td>0.000000</td>\n",
       "      <td>0.000000</td>\n",
       "      <td>NaN</td>\n",
       "      <td>NaN</td>\n",
       "      <td>0.000000</td>\n",
       "    </tr>\n",
       "    <tr>\n",
       "      <th>25%</th>\n",
       "      <td>225.750000</td>\n",
       "      <td>8203.000000</td>\n",
       "      <td>2.000000</td>\n",
       "      <td>NaN</td>\n",
       "      <td>1982.000000</td>\n",
       "      <td>0.000000</td>\n",
       "      <td>0.000000</td>\n",
       "      <td>221.000000</td>\n",
       "      <td>NaN</td>\n",
       "      <td>NaN</td>\n",
       "      <td>0.000000</td>\n",
       "    </tr>\n",
       "    <tr>\n",
       "      <th>50%</th>\n",
       "      <td>450.500000</td>\n",
       "      <td>13593.500000</td>\n",
       "      <td>3.000000</td>\n",
       "      <td>NaN</td>\n",
       "      <td>1992.000000</td>\n",
       "      <td>0.000000</td>\n",
       "      <td>0.000000</td>\n",
       "      <td>405.000000</td>\n",
       "      <td>NaN</td>\n",
       "      <td>NaN</td>\n",
       "      <td>1.000000</td>\n",
       "    </tr>\n",
       "    <tr>\n",
       "      <th>75%</th>\n",
       "      <td>675.250000</td>\n",
       "      <td>18906.500000</td>\n",
       "      <td>3.000000</td>\n",
       "      <td>NaN</td>\n",
       "      <td>1999.500000</td>\n",
       "      <td>0.000000</td>\n",
       "      <td>1.000000</td>\n",
       "      <td>861.250000</td>\n",
       "      <td>NaN</td>\n",
       "      <td>NaN</td>\n",
       "      <td>1.000000</td>\n",
       "    </tr>\n",
       "    <tr>\n",
       "      <th>max</th>\n",
       "      <td>900.000000</td>\n",
       "      <td>742836.000000</td>\n",
       "      <td>3.000000</td>\n",
       "      <td>NaN</td>\n",
       "      <td>2019.000000</td>\n",
       "      <td>6.000000</td>\n",
       "      <td>8.000000</td>\n",
       "      <td>14345.000000</td>\n",
       "      <td>NaN</td>\n",
       "      <td>NaN</td>\n",
       "      <td>1.000000</td>\n",
       "    </tr>\n",
       "  </tbody>\n",
       "</table>\n",
       "</div>"
      ],
      "text/plain": [
       "                ID      Family_ID    Severity                Name  \\\n",
       "count   900.000000     900.000000  900.000000                 900   \n",
       "unique         NaN            NaN         NaN                 899   \n",
       "top            NaN            NaN         NaN  Mr. Samuel Darnell   \n",
       "freq           NaN            NaN         NaN                   2   \n",
       "mean    450.500000   14305.827778    2.313333                 NaN   \n",
       "std     259.951919   25418.153900    0.834223                 NaN   \n",
       "min       1.000000     345.000000    1.000000                 NaN   \n",
       "25%     225.750000    8203.000000    2.000000                 NaN   \n",
       "50%     450.500000   13593.500000    3.000000                 NaN   \n",
       "75%     675.250000   18906.500000    3.000000                 NaN   \n",
       "max     900.000000  742836.000000    3.000000                 NaN   \n",
       "\n",
       "        Birthday_year  Parents_Children_Infected  \\\n",
       "count      723.000000                 900.000000   \n",
       "unique            NaN                        NaN   \n",
       "top               NaN                        NaN   \n",
       "freq              NaN                        NaN   \n",
       "mean      1990.266943                   0.380000   \n",
       "std         14.523335                   0.803247   \n",
       "min       1940.000000                   0.000000   \n",
       "25%       1982.000000                   0.000000   \n",
       "50%       1992.000000                   0.000000   \n",
       "75%       1999.500000                   0.000000   \n",
       "max       2019.000000                   6.000000   \n",
       "\n",
       "        Wife_Husband_Siblings_Infected  Medical_Expenses_Family Medical_Tent  \\\n",
       "count                       900.000000               900.000000          198   \n",
       "unique                             NaN                      NaN            8   \n",
       "top                                NaN                      NaN            C   \n",
       "freq                               NaN                      NaN           57   \n",
       "mean                          0.521111               895.743333          NaN   \n",
       "std                           1.098385              1385.829926          NaN   \n",
       "min                           0.000000                 0.000000          NaN   \n",
       "25%                           0.000000               221.000000          NaN   \n",
       "50%                           0.000000               405.000000          NaN   \n",
       "75%                           1.000000               861.250000          NaN   \n",
       "max                           8.000000             14345.000000          NaN   \n",
       "\n",
       "            City    Deceased  \n",
       "count        898  900.000000  \n",
       "unique         3         NaN  \n",
       "top     Santa Fe         NaN  \n",
       "freq         649         NaN  \n",
       "mean         NaN    0.614444  \n",
       "std          NaN    0.486997  \n",
       "min          NaN    0.000000  \n",
       "25%          NaN    0.000000  \n",
       "50%          NaN    1.000000  \n",
       "75%          NaN    1.000000  \n",
       "max          NaN    1.000000  "
      ]
     },
     "execution_count": 8,
     "metadata": {},
     "output_type": "execute_result"
    }
   ],
   "source": [
    "# Get overall information about variables in dftrain\n",
    "dftrain.describe(include='all')"
   ]
  },
  {
   "cell_type": "code",
   "execution_count": 9,
   "metadata": {},
   "outputs": [
    {
     "name": "stdout",
     "output_type": "stream",
     "text": [
      "Data types in train set:\n",
      "ID                                  int64\n",
      "Family_ID                           int64\n",
      "Severity                            int64\n",
      "Name                               object\n",
      "Birthday_year                     float64\n",
      "Parents_Children_Infected           int64\n",
      "Wife_Husband_Siblings_Infected      int64\n",
      "Medical_Expenses_Family             int64\n",
      "Medical_Tent                       object\n",
      "City                               object\n",
      "Deceased                            int64\n",
      "dtype: object\n",
      "\n",
      "Data types in test set:\n",
      "ID                                  int64\n",
      "Family_ID                           int64\n",
      "Severity                            int64\n",
      "Name                               object\n",
      "Birthday_year                     float64\n",
      "Parents_Children_Infected           int64\n",
      "Wife_Husband_Siblings_Infected      int64\n",
      "Medical_Expenses_Family             int64\n",
      "Medical_Tent                       object\n",
      "City                               object\n",
      "dtype: object\n"
     ]
    }
   ],
   "source": [
    "# Check data types\n",
    "print('Data types in train set:')\n",
    "print(dftrain.dtypes)\n",
    "print()\n",
    "print('Data types in test set:')\n",
    "print(dftest.dtypes)"
   ]
  },
  {
   "cell_type": "code",
   "execution_count": 10,
   "metadata": {},
   "outputs": [
    {
     "name": "stdout",
     "output_type": "stream",
     "text": [
      "Null values in train set:\n",
      "ID                                  0\n",
      "Family_ID                           0\n",
      "Severity                            0\n",
      "Name                                0\n",
      "Birthday_year                     177\n",
      "Parents_Children_Infected           0\n",
      "Wife_Husband_Siblings_Infected      0\n",
      "Medical_Expenses_Family             0\n",
      "Medical_Tent                      702\n",
      "City                                2\n",
      "Deceased                            0\n",
      "dtype: int64\n",
      "\n",
      "Null values in test set:\n",
      "ID                                  0\n",
      "Family_ID                           0\n",
      "Severity                            0\n",
      "Name                                0\n",
      "Birthday_year                      82\n",
      "Parents_Children_Infected           0\n",
      "Wife_Husband_Siblings_Infected      0\n",
      "Medical_Expenses_Family             0\n",
      "Medical_Tent                      311\n",
      "City                                0\n",
      "dtype: int64\n"
     ]
    }
   ],
   "source": [
    "# Check Null values \n",
    "print('Null values in train set:')\n",
    "print(dftrain.isna().sum())\n",
    "print()\n",
    "print('Null values in test set:')\n",
    "print(dftest.isna().sum())"
   ]
  },
  {
   "cell_type": "markdown",
   "metadata": {},
   "source": [
    "**Null values Conclusions:**\n",
    "- There are **too many null values in Medical_Tent**. In 900 individuals there are 702 with Null values on this variable. We will probably drop this variable later on.\n",
    "- Birthday_Year and City also have null values."
   ]
  },
  {
   "cell_type": "markdown",
   "metadata": {},
   "source": [
    "<h3> Variables' Visualization"
   ]
  },
  {
   "cell_type": "markdown",
   "metadata": {},
   "source": [
    "As a way of starting to know the available variables, we decided to plot them. As our objective with this project is to built a **predictive model capable of determining the variable Deceased**, the visualizations were built in such a way of **differentiating between the two categories of this target variable**. \n",
    "\n",
    "We built **stacked bar charts 100%** for the **categorical, ordinal and for the discrete variables with few values**. Regarding the **remaining numerical variables**, we built a **Pairplot**, through which we were able to observe the **variables' distribution and the relationship between them.**"
   ]
  },
  {
   "cell_type": "code",
   "execution_count": 11,
   "metadata": {
    "scrolled": true
   },
   "outputs": [
    {
     "data": {
      "image/png": "[encoded data removed]",
      "text/plain": [
       "<Figure size 720x504 with 1 Axes>"
      ]
     },
     "metadata": {
      "needs_background": "light"
     },
     "output_type": "display_data"
    },
    {
     "data": {
      "image/png": "[encoded data removed]",
      "text/plain": [
       "<Figure size 720x504 with 1 Axes>"
      ]
     },
     "metadata": {
      "needs_background": "light"
     },
     "output_type": "display_data"
    },
    {
     "data": {
      "image/png": "[encoded data removed]",
      "text/plain": [
       "<Figure size 720x504 with 1 Axes>"
      ]
     },
     "metadata": {
      "needs_background": "light"
     },
     "output_type": "display_data"
    },
    {
     "data": {
      "image/png": "[encoded data removed]",
      "text/plain": [
       "<Figure size 720x504 with 1 Axes>"
      ]
     },
     "metadata": {
      "needs_background": "light"
     },
     "output_type": "display_data"
    }
   ],
   "source": [
    "# Plot catergorical, ordinal and discrete variables with few values\n",
    "# Part of the code taken from: https://medium.com/@priteshbgohil/stacked-bar-chart-in-python-ddc0781f7d5f\n",
    "plotEval_dftrain = dftrain[['Deceased', 'Severity','Parents_Children_Infected', 'Wife_Husband_Siblings_Infected', 'Medical_Tent', 'City']]\n",
    "\n",
    "for i in list(plotEval_dftrain.columns[1:5]):\n",
    "    listCategories = list(plotEval_dftrain[i].value_counts().index)\n",
    "    Deceased = plotEval_dftrain[i][plotEval_dftrain['Deceased']==1].value_counts().sort_index()\n",
    "    NotDeceased = plotEval_dftrain[i][plotEval_dftrain['Deceased']==0].value_counts().sort_index()\n",
    "\n",
    "    for j in listCategories:\n",
    "        if j not in list(Deceased.index):\n",
    "            Deceased = Deceased.append(pd.Series([0], index =[j]))\n",
    "        if j not in list(NotDeceased.index):\n",
    "            NotDeceased = NotDeceased.append(pd.Series([0], index =[j]))\n",
    "    Deceased = np.array(Deceased.sort_index().values)\n",
    "    NotDeceased = np.array(NotDeceased.sort_index().values)\n",
    "    \n",
    "    risk =list(plotEval_dftrain[i].value_counts().sort_index().index)\n",
    "\n",
    "    total = Deceased + NotDeceased\n",
    "    proportion_Deceased = np.true_divide(Deceased, total) * 100\n",
    "    proportion_NotDeceased = np.true_divide(NotDeceased, total) * 100\n",
    "    \n",
    "    # Add colors\n",
    "    colors = ['#FF9999', '#00BFFF']\n",
    "    \n",
    "    # The position of the bars on the x-axis\n",
    "    r = range(len(risk))\n",
    "    barWidth = 1\n",
    "    \n",
    "    #plot bars\n",
    "    plt.figure(figsize=(10,7))\n",
    "    ax1 = plt.bar(r, proportion_Deceased, bottom=proportion_NotDeceased, color=colors[0], edgecolor='white', width=barWidth, label=\"Deceased\")\n",
    "    ax2 = plt.bar(r, proportion_NotDeceased, color=colors[1], edgecolor='white', width=barWidth, label='NotDeceased')\n",
    "    \n",
    "    plt.legend()\n",
    "    plt.xticks(r, risk, fontweight='bold')\n",
    "    plt.ylabel(\"Proportion of Deceased categories\")\n",
    "    plt.title(i)\n",
    "    plt.show()\n",
    "    \n",
    "    "
   ]
  },
  {
   "cell_type": "code",
   "execution_count": 12,
   "metadata": {},
   "outputs": [
    {
     "data": {
      "image/png": "[encoded data removed]",
      "text/plain": [
       "<Figure size 414.675x360 with 6 Axes>"
      ]
     },
     "metadata": {},
     "output_type": "display_data"
    }
   ],
   "source": [
    "# Check Numerical variables distribution and correlation by category of dependent variable\n",
    "\n",
    "plotNum_dftrain = dftrain[['Deceased','Birthday_year','Medical_Expenses_Family']]\n",
    "\n",
    "sns.set()\n",
    "sns.set_style(\"white\")\n",
    "\n",
    "sns.pairplot(plotNum_dftrain, vars=['Birthday_year','Medical_Expenses_Family'],hue=\"Deceased\", diag_kind=\"kde\")\n",
    "\n",
    "plt.subplots_adjust(top=0.95)\n",
    "plt.suptitle(\"Pairwise relationship of metric variables by Churn_risk\", fontsize=14)\n",
    "plt.show()"
   ]
  },
  {
   "cell_type": "markdown",
   "metadata": {},
   "source": [
    "**Conclusions Visualizations:**\n",
    "- **Severity** is a good variable in terms of differentiating the target variable classes. In fact, the distribution of individuals through the target classes accross different severity levels is different.\n",
    "- As the other variables presented on the stacked bar charts have many classes/ values, it is difficult to determine if they are good differentiators of the target variable. However, there seems to exist difference of individuals distribution across the target classes on the different values of the variables.\n",
    "- **Bithday_year** seems to have a near normal distribution.\n",
    "- **Medical_Expenses_Family** has a skewed distribution so it might be a good idea to apply a logarithmic function over this variable to turn it nearer to a normal distribution.\n"
   ]
  },
  {
   "cell_type": "markdown",
   "metadata": {},
   "source": [
    "# <font color='#E8800A'>Preprocessing</font> <a class=\"anchor\" id=\"third-bullet\"></a>\n",
    "  [Back to TOC](#menu)"
   ]
  },
  {
   "cell_type": "markdown",
   "metadata": {},
   "source": [
    "<h3> Duplicates"
   ]
  },
  {
   "cell_type": "code",
   "execution_count": 13,
   "metadata": {},
   "outputs": [
    {
     "name": "stdout",
     "output_type": "stream",
     "text": [
      "There are 0 duplicates in train set\n",
      "There are 0 duplicates in test set\n"
     ]
    }
   ],
   "source": [
    "# Check if there are duplicated rows\n",
    "duplicateRowsDF = dftrain[dftrain.duplicated()]\n",
    "print('There are {} duplicates in train set'.format(len(duplicateRowsDF)))                           \n",
    "duplicateRowsDF = dftest[dftest.duplicated()]\n",
    "print('There are {} duplicates in test set'.format(len(duplicateRowsDF)))  "
   ]
  },
  {
   "cell_type": "markdown",
   "metadata": {},
   "source": [
    "<h3> Incoherences"
   ]
  },
  {
   "cell_type": "markdown",
   "metadata": {},
   "source": [
    "**Severity:** Check if there are other values besides the ones indicated on the metadata.\n",
    "\n",
    "**Birthday_year:**\n",
    "- Check if there values higher than 2020.\n",
    "- Check if there are too low values that would not make sense.\n",
    "\n",
    "**Parents_Children_Infected/ Wife_Husband_Siblings_Infected:**\n",
    "- Check if there are negative values.\n",
    "- Check if there are values too high that would not make any sense.\n",
    "\n",
    "**Medical_Expenses_Family:** Check if there are negative values.\n",
    "\n",
    "**City:** Check if there are only the 3 city values described on the problem context.\n",
    "\n",
    "**Deceased:** Check if there are only 0 and 1 values.\n",
    "\n",
    "**Family_Members_Infected and Medical_Expenses_Family:** Check if there are individuals with Family Members infected and with zero medical expenses."
   ]
  },
  {
   "cell_type": "code",
   "execution_count": 14,
   "metadata": {},
   "outputs": [
    {
     "data": {
      "text/html": [
       "<div>\n",
       "<style scoped>\n",
       "    .dataframe tbody tr th:only-of-type {\n",
       "        vertical-align: middle;\n",
       "    }\n",
       "\n",
       "    .dataframe tbody tr th {\n",
       "        vertical-align: top;\n",
       "    }\n",
       "\n",
       "    .dataframe thead th {\n",
       "        text-align: right;\n",
       "    }\n",
       "</style>\n",
       "<table border=\"1\" class=\"dataframe\">\n",
       "  <thead>\n",
       "    <tr style=\"text-align: right;\">\n",
       "      <th></th>\n",
       "      <th>ID</th>\n",
       "      <th>Family_ID</th>\n",
       "      <th>Severity</th>\n",
       "      <th>Name</th>\n",
       "      <th>Birthday_year</th>\n",
       "      <th>Parents_Children_Infected</th>\n",
       "      <th>Wife_Husband_Siblings_Infected</th>\n",
       "      <th>Medical_Expenses_Family</th>\n",
       "      <th>Medical_Tent</th>\n",
       "      <th>City</th>\n",
       "      <th>Deceased</th>\n",
       "    </tr>\n",
       "  </thead>\n",
       "  <tbody>\n",
       "    <tr>\n",
       "      <th>count</th>\n",
       "      <td>900.000000</td>\n",
       "      <td>900.000000</td>\n",
       "      <td>900.000000</td>\n",
       "      <td>900</td>\n",
       "      <td>723.000000</td>\n",
       "      <td>900.000000</td>\n",
       "      <td>900.000000</td>\n",
       "      <td>900.000000</td>\n",
       "      <td>198</td>\n",
       "      <td>898</td>\n",
       "      <td>900.000000</td>\n",
       "    </tr>\n",
       "    <tr>\n",
       "      <th>unique</th>\n",
       "      <td>NaN</td>\n",
       "      <td>NaN</td>\n",
       "      <td>NaN</td>\n",
       "      <td>899</td>\n",
       "      <td>NaN</td>\n",
       "      <td>NaN</td>\n",
       "      <td>NaN</td>\n",
       "      <td>NaN</td>\n",
       "      <td>8</td>\n",
       "      <td>3</td>\n",
       "      <td>NaN</td>\n",
       "    </tr>\n",
       "    <tr>\n",
       "      <th>top</th>\n",
       "      <td>NaN</td>\n",
       "      <td>NaN</td>\n",
       "      <td>NaN</td>\n",
       "      <td>Mr. Samuel Darnell</td>\n",
       "      <td>NaN</td>\n",
       "      <td>NaN</td>\n",
       "      <td>NaN</td>\n",
       "      <td>NaN</td>\n",
       "      <td>C</td>\n",
       "      <td>Santa Fe</td>\n",
       "      <td>NaN</td>\n",
       "    </tr>\n",
       "    <tr>\n",
       "      <th>freq</th>\n",
       "      <td>NaN</td>\n",
       "      <td>NaN</td>\n",
       "      <td>NaN</td>\n",
       "      <td>2</td>\n",
       "      <td>NaN</td>\n",
       "      <td>NaN</td>\n",
       "      <td>NaN</td>\n",
       "      <td>NaN</td>\n",
       "      <td>57</td>\n",
       "      <td>649</td>\n",
       "      <td>NaN</td>\n",
       "    </tr>\n",
       "    <tr>\n",
       "      <th>mean</th>\n",
       "      <td>450.500000</td>\n",
       "      <td>14305.827778</td>\n",
       "      <td>2.313333</td>\n",
       "      <td>NaN</td>\n",
       "      <td>1990.266943</td>\n",
       "      <td>0.380000</td>\n",
       "      <td>0.521111</td>\n",
       "      <td>895.743333</td>\n",
       "      <td>NaN</td>\n",
       "      <td>NaN</td>\n",
       "      <td>0.614444</td>\n",
       "    </tr>\n",
       "    <tr>\n",
       "      <th>std</th>\n",
       "      <td>259.951919</td>\n",
       "      <td>25418.153900</td>\n",
       "      <td>0.834223</td>\n",
       "      <td>NaN</td>\n",
       "      <td>14.523335</td>\n",
       "      <td>0.803247</td>\n",
       "      <td>1.098385</td>\n",
       "      <td>1385.829926</td>\n",
       "      <td>NaN</td>\n",
       "      <td>NaN</td>\n",
       "      <td>0.486997</td>\n",
       "    </tr>\n",
       "    <tr>\n",
       "      <th>min</th>\n",
       "      <td>1.000000</td>\n",
       "      <td>345.000000</td>\n",
       "      <td>1.000000</td>\n",
       "      <td>NaN</td>\n",
       "      <td>1940.000000</td>\n",
       "      <td>0.000000</td>\n",
       "      <td>0.000000</td>\n",
       "      <td>0.000000</td>\n",
       "      <td>NaN</td>\n",
       "      <td>NaN</td>\n",
       "      <td>0.000000</td>\n",
       "    </tr>\n",
       "    <tr>\n",
       "      <th>25%</th>\n",
       "      <td>225.750000</td>\n",
       "      <td>8203.000000</td>\n",
       "      <td>2.000000</td>\n",
       "      <td>NaN</td>\n",
       "      <td>1982.000000</td>\n",
       "      <td>0.000000</td>\n",
       "      <td>0.000000</td>\n",
       "      <td>221.000000</td>\n",
       "      <td>NaN</td>\n",
       "      <td>NaN</td>\n",
       "      <td>0.000000</td>\n",
       "    </tr>\n",
       "    <tr>\n",
       "      <th>50%</th>\n",
       "      <td>450.500000</td>\n",
       "      <td>13593.500000</td>\n",
       "      <td>3.000000</td>\n",
       "      <td>NaN</td>\n",
       "      <td>1992.000000</td>\n",
       "      <td>0.000000</td>\n",
       "      <td>0.000000</td>\n",
       "      <td>405.000000</td>\n",
       "      <td>NaN</td>\n",
       "      <td>NaN</td>\n",
       "      <td>1.000000</td>\n",
       "    </tr>\n",
       "    <tr>\n",
       "      <th>75%</th>\n",
       "      <td>675.250000</td>\n",
       "      <td>18906.500000</td>\n",
       "      <td>3.000000</td>\n",
       "      <td>NaN</td>\n",
       "      <td>1999.500000</td>\n",
       "      <td>0.000000</td>\n",
       "      <td>1.000000</td>\n",
       "      <td>861.250000</td>\n",
       "      <td>NaN</td>\n",
       "      <td>NaN</td>\n",
       "      <td>1.000000</td>\n",
       "    </tr>\n",
       "    <tr>\n",
       "      <th>max</th>\n",
       "      <td>900.000000</td>\n",
       "      <td>742836.000000</td>\n",
       "      <td>3.000000</td>\n",
       "      <td>NaN</td>\n",
       "      <td>2019.000000</td>\n",
       "      <td>6.000000</td>\n",
       "      <td>8.000000</td>\n",
       "      <td>14345.000000</td>\n",
       "      <td>NaN</td>\n",
       "      <td>NaN</td>\n",
       "      <td>1.000000</td>\n",
       "    </tr>\n",
       "  </tbody>\n",
       "</table>\n",
       "</div>"
      ],
      "text/plain": [
       "                ID      Family_ID    Severity                Name  \\\n",
       "count   900.000000     900.000000  900.000000                 900   \n",
       "unique         NaN            NaN         NaN                 899   \n",
       "top            NaN            NaN         NaN  Mr. Samuel Darnell   \n",
       "freq           NaN            NaN         NaN                   2   \n",
       "mean    450.500000   14305.827778    2.313333                 NaN   \n",
       "std     259.951919   25418.153900    0.834223                 NaN   \n",
       "min       1.000000     345.000000    1.000000                 NaN   \n",
       "25%     225.750000    8203.000000    2.000000                 NaN   \n",
       "50%     450.500000   13593.500000    3.000000                 NaN   \n",
       "75%     675.250000   18906.500000    3.000000                 NaN   \n",
       "max     900.000000  742836.000000    3.000000                 NaN   \n",
       "\n",
       "        Birthday_year  Parents_Children_Infected  \\\n",
       "count      723.000000                 900.000000   \n",
       "unique            NaN                        NaN   \n",
       "top               NaN                        NaN   \n",
       "freq              NaN                        NaN   \n",
       "mean      1990.266943                   0.380000   \n",
       "std         14.523335                   0.803247   \n",
       "min       1940.000000                   0.000000   \n",
       "25%       1982.000000                   0.000000   \n",
       "50%       1992.000000                   0.000000   \n",
       "75%       1999.500000                   0.000000   \n",
       "max       2019.000000                   6.000000   \n",
       "\n",
       "        Wife_Husband_Siblings_Infected  Medical_Expenses_Family Medical_Tent  \\\n",
       "count                       900.000000               900.000000          198   \n",
       "unique                             NaN                      NaN            8   \n",
       "top                                NaN                      NaN            C   \n",
       "freq                               NaN                      NaN           57   \n",
       "mean                          0.521111               895.743333          NaN   \n",
       "std                           1.098385              1385.829926          NaN   \n",
       "min                           0.000000                 0.000000          NaN   \n",
       "25%                           0.000000               221.000000          NaN   \n",
       "50%                           0.000000               405.000000          NaN   \n",
       "75%                           1.000000               861.250000          NaN   \n",
       "max                           8.000000             14345.000000          NaN   \n",
       "\n",
       "            City    Deceased  \n",
       "count        898  900.000000  \n",
       "unique         3         NaN  \n",
       "top     Santa Fe         NaN  \n",
       "freq         649         NaN  \n",
       "mean         NaN    0.614444  \n",
       "std          NaN    0.486997  \n",
       "min          NaN    0.000000  \n",
       "25%          NaN    0.000000  \n",
       "50%          NaN    1.000000  \n",
       "75%          NaN    1.000000  \n",
       "max          NaN    1.000000  "
      ]
     },
     "execution_count": 14,
     "metadata": {},
     "output_type": "execute_result"
    }
   ],
   "source": [
    "# Get description of all variables\n",
    "dftrain.describe(include='all')"
   ]
  },
  {
   "cell_type": "markdown",
   "metadata": {},
   "source": [
    "**Conclusions Table above:**\n",
    "- **Birthday_year:** the maximum value is 2019 (which makes sense) and the minimum value is 1940 (it represents someone with 80 years old).\n",
    "- **Parents_Children_Infected/ Wife_Husband_Siblings_Infected:** there are no negative values and the maximum values are 6 and 8 respectivelly, so there are no weird values on these variables.\n",
    "- **Medical_Expenses_Family:** there are no negative values on this variable."
   ]
  },
  {
   "cell_type": "code",
   "execution_count": 15,
   "metadata": {},
   "outputs": [
    {
     "data": {
      "text/plain": [
       "3    498\n",
       "1    216\n",
       "2    186\n",
       "Name: Severity, dtype: int64"
      ]
     },
     "execution_count": 15,
     "metadata": {},
     "output_type": "execute_result"
    }
   ],
   "source": [
    "# Severity\n",
    "dftrain.Severity.value_counts() # There are no weird values on severity"
   ]
  },
  {
   "cell_type": "code",
   "execution_count": 16,
   "metadata": {},
   "outputs": [
    {
     "data": {
      "text/plain": [
       "Santa Fe       649\n",
       "Albuquerque    169\n",
       "Taos            80\n",
       "Name: City, dtype: int64"
      ]
     },
     "execution_count": 16,
     "metadata": {},
     "output_type": "execute_result"
    }
   ],
   "source": [
    "# City\n",
    "dftrain.City.value_counts() # There are only 3 values which makes sense, as it is according to the problem context"
   ]
  },
  {
   "cell_type": "code",
   "execution_count": 17,
   "metadata": {},
   "outputs": [
    {
     "data": {
      "text/html": [
       "<div>\n",
       "<style scoped>\n",
       "    .dataframe tbody tr th:only-of-type {\n",
       "        vertical-align: middle;\n",
       "    }\n",
       "\n",
       "    .dataframe tbody tr th {\n",
       "        vertical-align: top;\n",
       "    }\n",
       "\n",
       "    .dataframe thead th {\n",
       "        text-align: right;\n",
       "    }\n",
       "</style>\n",
       "<table border=\"1\" class=\"dataframe\">\n",
       "  <thead>\n",
       "    <tr style=\"text-align: right;\">\n",
       "      <th></th>\n",
       "      <th>ID</th>\n",
       "      <th>Family_ID</th>\n",
       "      <th>Severity</th>\n",
       "      <th>Name</th>\n",
       "      <th>Birthday_year</th>\n",
       "      <th>Parents_Children_Infected</th>\n",
       "      <th>Wife_Husband_Siblings_Infected</th>\n",
       "      <th>Medical_Expenses_Family</th>\n",
       "      <th>Medical_Tent</th>\n",
       "      <th>City</th>\n",
       "      <th>Deceased</th>\n",
       "    </tr>\n",
       "  </thead>\n",
       "  <tbody>\n",
       "  </tbody>\n",
       "</table>\n",
       "</div>"
      ],
      "text/plain": [
       "Empty DataFrame\n",
       "Columns: [ID, Family_ID, Severity, Name, Birthday_year, Parents_Children_Infected, Wife_Husband_Siblings_Infected, Medical_Expenses_Family, Medical_Tent, City, Deceased]\n",
       "Index: []"
      ]
     },
     "execution_count": 17,
     "metadata": {},
     "output_type": "execute_result"
    }
   ],
   "source": [
    "# Family_Members_Infected and Medical_Expenses_Family\n",
    "dftrain[(dftrain.Parents_Children_Infected!=0)&(dftrain.Wife_Husband_Siblings_Infected!=0) & (dftrain.Medical_Expenses_Family==0)] \n",
    "# No individuals with this incoherence"
   ]
  },
  {
   "cell_type": "markdown",
   "metadata": {},
   "source": [
    "<h3> Outliers"
   ]
  },
  {
   "cell_type": "markdown",
   "metadata": {},
   "source": [
    "**Numerical Variables**"
   ]
  },
  {
   "cell_type": "code",
   "execution_count": 18,
   "metadata": {},
   "outputs": [
    {
     "data": {
      "image/png": "[encoded data removed]",
      "text/plain": [
       "<Figure size 1440x504 with 2 Axes>"
      ]
     },
     "metadata": {},
     "output_type": "display_data"
    }
   ],
   "source": [
    "# Box plots for each of the numerical variables to check if there are outliers:\n",
    "\n",
    "sns.set()\n",
    "sns.set_style(\"white\")\n",
    "\n",
    "plot_features = ['Medical_Expenses_Family','Birthday_year']\n",
    "\n",
    "fig, axes = plt.subplots(1, len(plot_features), figsize=(20,7), constrained_layout=True)\n",
    "    \n",
    "for ax, f in zip(axes.flatten(), plot_features):\n",
    "    sns.boxplot(y=f, data=dftrain, ax=ax, x='Deceased')\n",
    "\n",
    "plt.suptitle(\"Numerical variables box plots\", fontsize=30)\n",
    "plt.show()"
   ]
  },
  {
   "cell_type": "markdown",
   "metadata": {},
   "source": [
    "**Conclusions Box Plots:** There seem to exist outliers in both variables. The outliers in Medical_Expenses_Family are high values and the outliers in Birthday_year are low. Let's check if it makes sense to drop them or not."
   ]
  },
  {
   "cell_type": "code",
   "execution_count": 19,
   "metadata": {
    "scrolled": true
   },
   "outputs": [
    {
     "data": {
      "text/plain": [
       "2980     2\n",
       "3049     2\n",
       "3105     4\n",
       "3172     3\n",
       "3360     4\n",
       "3742     2\n",
       "3766     2\n",
       "3798     3\n",
       "4103     2\n",
       "4243     4\n",
       "4297     3\n",
       "4616     2\n",
       "5917     3\n",
       "5922     1\n",
       "6210     1\n",
       "6371     4\n",
       "6931     2\n",
       "7347     2\n",
       "7364     4\n",
       "14345    3\n",
       "Name: Medical_Expenses_Family, dtype: int64"
      ]
     },
     "execution_count": 19,
     "metadata": {},
     "output_type": "execute_result"
    }
   ],
   "source": [
    "# Check outliers of Medical_Expenses_Family\n",
    "dftrain.Medical_Expenses_Family.value_counts().sort_index().tail(20)"
   ]
  },
  {
   "cell_type": "markdown",
   "metadata": {},
   "source": [
    "The **3 last individuals with Medical_Expenses_Family value of 14345** distinguish a lot from the previous values. Despite being possible for a family to spend 14345 in medical assistance, these values are so different from the others, that would bias the training of the model. Therefore, we decided to **drop them, considering them as outliers.**"
   ]
  },
  {
   "cell_type": "code",
   "execution_count": 20,
   "metadata": {},
   "outputs": [],
   "source": [
    "# Remove outliers in Medical_Expenses_Family\n",
    "dftrain = dftrain[dftrain['Medical_Expenses_Family']<=8000]"
   ]
  },
  {
   "cell_type": "code",
   "execution_count": 21,
   "metadata": {
    "scrolled": true
   },
   "outputs": [
    {
     "data": {
      "text/plain": [
       "1940.0    1\n",
       "1946.0    1\n",
       "1949.0    3\n",
       "1950.0    2\n",
       "1954.0    1\n",
       "1955.0    3\n",
       "1956.0    2\n",
       "1957.0    2\n",
       "1958.0    5\n",
       "1959.0    3\n",
       "1960.0    4\n",
       "1961.0    2\n",
       "1962.0    5\n",
       "1963.0    2\n",
       "1964.0    5\n",
       "1965.0    2\n",
       "1966.0    8\n",
       "1967.0    1\n",
       "1968.0    6\n",
       "1969.0    7\n",
       "Name: Birthday_year, dtype: int64"
      ]
     },
     "execution_count": 21,
     "metadata": {},
     "output_type": "execute_result"
    }
   ],
   "source": [
    "# Check outliers of Birthday_year\n",
    "dftrain.Birthday_year.value_counts().sort_index().head(20)"
   ]
  },
  {
   "cell_type": "markdown",
   "metadata": {},
   "source": [
    "There is only one value that distinguishes from the others by being **lower (1940).** However, as it **does not differentiate that much, we decided to keep it.**"
   ]
  },
  {
   "cell_type": "markdown",
   "metadata": {},
   "source": [
    "Now that we checked one dimensional outliers, we decided to check 2 dimensional outliers graphically. **If there is evidence of bi-dimensional outliers, we will apply k-means**, which is commonly used for this purpose as it is an algorithm really **sensitive to outliers.**"
   ]
  },
  {
   "cell_type": "code",
   "execution_count": 22,
   "metadata": {
    "scrolled": false
   },
   "outputs": [
    {
     "data": {
      "image/png": "[encoded data removed]",
      "text/plain": [
       "<Figure size 576x360 with 1 Axes>"
      ]
     },
     "metadata": {},
     "output_type": "display_data"
    }
   ],
   "source": [
    "# Plot individually the numerical variables: scatterplots:\n",
    "plt.figure(figsize=(8,5))\n",
    "plt.scatter(dftrain['Birthday_year'], dftrain['Medical_Expenses_Family'])\n",
    "plt.title('Check Bi-dimensional Outliers', fontsize=16)\n",
    "plt.xlabel('Birthday Year')\n",
    "plt.ylabel('Medical Expenses Family')\n",
    "\n",
    "\n",
    "plt.show()"
   ]
  },
  {
   "cell_type": "markdown",
   "metadata": {},
   "source": [
    "The point on the top left might be an outlier. Therefore, we followed the **K-means approach** mentioned before. It is important to mention that we decided to standardize these two variables in order not to influence the results of the k-means on their scales. It is true that we have already treated the uni-dimensional outliers, so it would make sense to apply the standard scaler as there would not be influence of outliers. However, through the visualizations of the 2 variables, we could observe that not both follow a normal distribution. For this reason, we decided to **apply the min-max scaler**, which is recommended on these cases."
   ]
  },
  {
   "cell_type": "code",
   "execution_count": 23,
   "metadata": {},
   "outputs": [],
   "source": [
    "# Standardize the variables to apply the K-means\n",
    "dfKmeans = dftrain[['ID','Birthday_year','Medical_Expenses_Family']][~dftrain.Birthday_year.isna()]\n",
    "scaler = MinMaxScaler()\n",
    "dfKmeans2 = scaler.fit_transform(dfKmeans[['Birthday_year','Medical_Expenses_Family']])\n",
    "dfKmeans = dfKmeans['ID']\n",
    "dfKmeans2 = pd.DataFrame(dfKmeans2, columns=['Birthday_year','Medical_Expenses_Family'])\n",
    "dfKmeans.reset_index(inplace=True, drop=True)\n",
    "dfKmeans2.reset_index(inplace=True, drop=True)\n",
    "dfKmeans = pd.concat([dfKmeans,dfKmeans2],axis=1,ignore_index=True)\n",
    "dfKmeans.columns = ['ID','Birthday_year','Medical_Expenses_Family']"
   ]
  },
  {
   "cell_type": "code",
   "execution_count": 24,
   "metadata": {},
   "outputs": [
    {
     "name": "stdout",
     "output_type": "stream",
     "text": [
      "4\n",
      "1:134\n",
      "3:324\n",
      "2:220\n",
      "0:42\n",
      "5\n",
      "4:126\n",
      "1:301\n",
      "0:211\n",
      "2:67\n",
      "3:15\n",
      "6\n",
      "4:103\n",
      "2:212\n",
      "1:252\n",
      "5:71\n",
      "0:67\n",
      "3:15\n",
      "7\n",
      "4:90\n",
      "2:205\n",
      "1:240\n",
      "5:70\n",
      "0:41\n",
      "3:16\n",
      "6:58\n",
      "8\n",
      "2:45\n",
      "1:187\n",
      "4:203\n",
      "7:70\n",
      "5:39\n",
      "6:106\n",
      "3:16\n",
      "0:54\n",
      "9\n",
      "1:35\n",
      "6:103\n",
      "7:193\n",
      "0:185\n",
      "3:67\n",
      "4:38\n",
      "2:24\n",
      "8:60\n",
      "5:15\n",
      "10\n",
      "1:31\n",
      "2:103\n",
      "0:193\n",
      "8:185\n",
      "6:66\n",
      "5:38\n",
      "9:16\n",
      "7:59\n",
      "3:15\n",
      "4:14\n",
      "11\n",
      "1:33\n",
      "2:108\n",
      "0:152\n",
      "8:167\n",
      "6:65\n",
      "5:31\n",
      "10:61\n",
      "9:15\n",
      "7:59\n",
      "3:15\n",
      "4:14\n",
      "12\n",
      "1:40\n",
      "6:112\n",
      "7:151\n",
      "0:166\n",
      "3:66\n",
      "11:63\n",
      "10:16\n",
      "9:5\n",
      "5:10\n",
      "4:26\n",
      "8:54\n",
      "2:11\n",
      "13\n",
      "1:31\n",
      "6:108\n",
      "7:149\n",
      "0:166\n",
      "3:66\n",
      "4:31\n",
      "11:61\n",
      "10:15\n",
      "12:33\n",
      "9:5\n",
      "5:10\n",
      "8:34\n",
      "2:11\n",
      "14\n",
      "1:31\n",
      "6:85\n",
      "13:126\n",
      "0:137\n",
      "7:98\n",
      "3:64\n",
      "11:45\n",
      "10:15\n",
      "12:33\n",
      "9:5\n",
      "5:10\n",
      "4:26\n",
      "8:34\n",
      "2:11\n",
      "15\n",
      "1:31\n",
      "14:85\n",
      "13:115\n",
      "0:105\n",
      "7:84\n",
      "3:64\n",
      "11:38\n",
      "10:15\n",
      "12:31\n",
      "6:70\n",
      "9:5\n",
      "5:10\n",
      "4:22\n",
      "8:34\n",
      "2:11\n",
      "16\n",
      "11:27\n",
      "6:88\n",
      "2:106\n",
      "15:114\n",
      "13:84\n",
      "4:64\n",
      "12:32\n",
      "9:16\n",
      "8:30\n",
      "1:71\n",
      "5:8\n",
      "3:5\n",
      "14:10\n",
      "0:34\n",
      "10:11\n",
      "7:20\n",
      "17\n",
      "11:25\n",
      "6:88\n",
      "2:107\n",
      "15:114\n",
      "13:77\n",
      "4:29\n",
      "16:43\n",
      "12:32\n",
      "9:16\n",
      "8:31\n",
      "1:71\n",
      "5:8\n",
      "3:5\n",
      "14:10\n",
      "0:33\n",
      "10:11\n",
      "7:20\n",
      "18\n",
      "1:27\n",
      "2:80\n",
      "14:110\n",
      "8:125\n",
      "0:90\n",
      "15:29\n",
      "6:44\n",
      "11:27\n",
      "9:12\n",
      "7:29\n",
      "16:36\n",
      "12:4\n",
      "10:37\n",
      "13:5\n",
      "3:10\n",
      "5:12\n",
      "17:32\n",
      "4:11\n",
      "19\n",
      "1:20\n",
      "14:65\n",
      "13:93\n",
      "0:113\n",
      "7:90\n",
      "16:29\n",
      "3:44\n",
      "11:32\n",
      "12:20\n",
      "18:42\n",
      "6:55\n",
      "17:7\n",
      "10:11\n",
      "9:5\n",
      "5:10\n",
      "8:36\n",
      "2:11\n",
      "15:16\n",
      "4:21\n",
      "20\n",
      "1:20\n",
      "14:65\n",
      "13:93\n",
      "0:113\n",
      "7:90\n",
      "16:28\n",
      "3:44\n",
      "11:32\n",
      "2:11\n",
      "18:43\n",
      "6:55\n",
      "17:7\n",
      "10:5\n",
      "9:5\n",
      "5:10\n",
      "8:34\n",
      "19:10\n",
      "12:19\n",
      "15:15\n",
      "4:21\n",
      "21\n",
      "1:25\n",
      "10:78\n",
      "0:100\n",
      "17:91\n",
      "9:90\n",
      "3:29\n",
      "15:44\n",
      "12:27\n",
      "14:10\n",
      "16:17\n",
      "18:35\n",
      "11:6\n",
      "5:44\n",
      "2:5\n",
      "6:10\n",
      "13:12\n",
      "20:39\n",
      "7:9\n",
      "4:19\n",
      "8:28\n",
      "19:2\n",
      "22\n",
      "1:25\n",
      "10:78\n",
      "0:100\n",
      "17:91\n",
      "9:90\n",
      "3:29\n",
      "15:44\n",
      "12:27\n",
      "14:10\n",
      "16:17\n",
      "18:35\n",
      "11:6\n",
      "5:44\n",
      "2:2\n",
      "6:8\n",
      "13:12\n",
      "20:39\n",
      "7:9\n",
      "4:19\n",
      "8:28\n",
      "19:2\n",
      "21:5\n",
      "23\n",
      "1:25\n",
      "10:77\n",
      "0:100\n",
      "17:92\n",
      "9:90\n",
      "22:27\n",
      "3:21\n",
      "12:27\n",
      "15:25\n",
      "14:10\n",
      "16:17\n",
      "18:35\n",
      "11:6\n",
      "5:44\n",
      "2:2\n",
      "6:8\n",
      "13:12\n",
      "20:39\n",
      "7:9\n",
      "4:19\n",
      "8:28\n",
      "19:2\n",
      "21:5\n",
      "24\n",
      "7:24\n",
      "5:38\n",
      "1:103\n",
      "20:34\n",
      "11:75\n",
      "3:125\n",
      "6:62\n",
      "15:26\n",
      "16:11\n",
      "18:27\n",
      "19:7\n",
      "8:6\n",
      "13:32\n",
      "4:5\n",
      "10:4\n",
      "23:18\n",
      "12:6\n",
      "14:21\n",
      "22:5\n",
      "21:36\n",
      "17:16\n",
      "0:21\n",
      "9:8\n",
      "2:10\n",
      "25\n",
      "1:17\n",
      "19:51\n",
      "20:100\n",
      "0:102\n",
      "5:88\n",
      "14:24\n",
      "3:42\n",
      "7:26\n",
      "11:38\n",
      "10:10\n",
      "17:18\n",
      "6:52\n",
      "13:6\n",
      "8:5\n",
      "16:1\n",
      "9:10\n",
      "4:16\n",
      "18:21\n",
      "22:36\n",
      "24:16\n",
      "23:15\n",
      "21:8\n",
      "15:10\n",
      "2:4\n",
      "12:4\n",
      "26\n",
      "1:17\n",
      "19:40\n",
      "20:88\n",
      "0:82\n",
      "25:52\n",
      "5:88\n",
      "14:24\n",
      "3:42\n",
      "7:26\n",
      "10:10\n",
      "17:18\n",
      "13:6\n",
      "8:5\n",
      "6:44\n",
      "16:1\n",
      "11:36\n",
      "9:10\n",
      "4:17\n",
      "18:21\n",
      "22:36\n",
      "24:16\n",
      "23:15\n",
      "21:8\n",
      "15:10\n",
      "2:4\n",
      "12:4\n",
      "27\n",
      "1:17\n",
      "19:40\n",
      "20:88\n",
      "0:82\n",
      "25:52\n",
      "5:88\n",
      "14:24\n",
      "3:42\n",
      "7:26\n",
      "10:6\n",
      "17:17\n",
      "13:6\n",
      "8:4\n",
      "6:44\n",
      "16:1\n",
      "11:36\n",
      "9:10\n",
      "4:17\n",
      "22:36\n",
      "24:15\n",
      "23:15\n",
      "18:21\n",
      "26:7\n",
      "21:8\n",
      "15:10\n",
      "2:4\n",
      "12:4\n",
      "28\n",
      "1:17\n",
      "19:40\n",
      "20:88\n",
      "0:82\n",
      "25:52\n",
      "5:88\n",
      "14:24\n",
      "3:42\n",
      "7:26\n",
      "10:5\n",
      "17:17\n",
      "13:6\n",
      "8:4\n",
      "6:44\n",
      "16:1\n",
      "11:36\n",
      "9:10\n",
      "4:17\n",
      "21:9\n",
      "22:36\n",
      "24:15\n",
      "23:15\n",
      "18:19\n",
      "26:7\n",
      "15:10\n",
      "2:4\n",
      "27:2\n",
      "12:4\n",
      "29\n",
      "1:17\n",
      "19:40\n",
      "20:88\n",
      "0:82\n",
      "25:52\n",
      "5:88\n",
      "14:24\n",
      "3:42\n",
      "7:26\n",
      "10:5\n",
      "17:17\n",
      "13:6\n",
      "8:4\n",
      "6:44\n",
      "16:1\n",
      "11:36\n",
      "28:4\n",
      "9:6\n",
      "4:17\n",
      "21:9\n",
      "22:36\n",
      "24:15\n",
      "23:15\n",
      "18:19\n",
      "26:7\n",
      "15:10\n",
      "2:4\n",
      "27:2\n",
      "12:4\n"
     ]
    }
   ],
   "source": [
    "# Build a for loop to access to the composition of different number of clusters\n",
    "for i in range(4,30):\n",
    "    kmeans = KMeans(n_clusters=i, random_state=0).fit(dfKmeans[['Birthday_year','Medical_Expenses_Family']])\n",
    "    print(i)\n",
    "    for key, value in Counter(kmeans.labels_).items():\n",
    "        print(str(key)+':'+str(value))"
   ]
  },
  {
   "cell_type": "markdown",
   "metadata": {},
   "source": [
    "Looking at the number of individuals per cluster, we realized there was no cluster that distinguished a lot from the others on a small number of individuals. From the 12 cluster number, we noticed there was a cluster with only 5 individuals. However, as the next clusters with few individuals had 10 and 11 individuals (small difference from the smallest one), we decided not to consider the 5 individuals on the smallest cluster as bi-dimensional outliers. Therefore, no further outliers treatment was needed."
   ]
  },
  {
   "cell_type": "markdown",
   "metadata": {},
   "source": [
    "<h3> Check and Transform (if necessary) Categorical Variables"
   ]
  },
  {
   "cell_type": "markdown",
   "metadata": {},
   "source": [
    "Firstly, we considered treating the Medical_Tent variable's categories. Looking at the categories in Medical_Tent, both for train and test sets, as we had concluded before through visualizations, we noticed there was one more tent called T in dftrain that was not in dftest. Also, looking at the train set, we realized that there were too few individuals in tents G and T. For this reason, we considered the possibility of joining these two categories with F category which is the one that has less individuals after those. However, we remembered that this variable has too many null values. For this reason, we decided not to do all the mentioned transformations, as below, on missing values section, we will drop this variable."
   ]
  },
  {
   "cell_type": "markdown",
   "metadata": {},
   "source": [
    "Also, regarding the Name variable, firstly, we considered **dropping** it, as it is directly **not useful when building a predictive model.** Besides, regarding GDPR, this variable should not be kept, as individuals should not be identifiable (for individuals differentiation we have the ID through which people cannot be identified). However, we dicided not to drop it directly, as we realized a new variable relative to the sex of the individuals could be obtained though it. In fact, before each name there was an honorific through which we could determine the sex of the individuals. The honorifics Miss, Ms and Mrs correspond to women, and Mr and Mrs to men. We created a function to create the new variable Female through this information (presented below)."
   ]
  },
  {
   "cell_type": "code",
   "execution_count": 25,
   "metadata": {},
   "outputs": [],
   "source": [
    "# Function to build the Female variable\n",
    "def change_name_to_gender(df):\n",
    "    df['Name'] = df['Name'].replace(to_replace='^Miss\\s*.*', value='1', regex=True) \n",
    "    df['Name'] = df['Name'].replace(to_replace='^Ms\\s*.*', value='1', regex=True) \n",
    "    df['Name'] = df['Name'].replace(to_replace='^Mr\\.\\s*.*', value='0', regex=True) \n",
    "    df['Name'] = df['Name'].replace(to_replace='^Mrs\\s*.*', value='1', regex=True) \n",
    "    df['Name'] = df['Name'].replace(to_replace='^Master\\s*.*', value='0', regex=True) \n",
    "    df = df.rename(columns={\"Name\": \"Female\"})\n",
    "    \n",
    "    return df\n",
    "    \n",
    "# Apply function to train and test sets\n",
    "dftrain = change_name_to_gender(dftrain)\n",
    "dftest = change_name_to_gender(dftest)"
   ]
  },
  {
   "cell_type": "markdown",
   "metadata": {},
   "source": [
    "<h3> Missing values"
   ]
  },
  {
   "cell_type": "code",
   "execution_count": 26,
   "metadata": {
    "scrolled": false
   },
   "outputs": [
    {
     "data": {
      "text/plain": [
       "ID                                  0\n",
       "Family_ID                           0\n",
       "Severity                            0\n",
       "Female                              0\n",
       "Birthday_year                     177\n",
       "Parents_Children_Infected           0\n",
       "Wife_Husband_Siblings_Infected      0\n",
       "Medical_Expenses_Family             0\n",
       "Medical_Tent                      701\n",
       "City                                2\n",
       "Deceased                            0\n",
       "dtype: int64"
      ]
     },
     "execution_count": 26,
     "metadata": {},
     "output_type": "execute_result"
    }
   ],
   "source": [
    "# Check missing values for all variables\n",
    "dftrain.isna().sum()"
   ]
  },
  {
   "cell_type": "markdown",
   "metadata": {},
   "source": [
    "There are **177 null values in Birthday_year, 701 null values in Medical_tent and 2 null values in City**. \n",
    "- Regarding the variable **Medical_Tent**, as it had so many null values (78% of the rows had null values on this variable), we decided to **drop** it, as predicting these null values would never be really accurate.\n",
    "- Regarding null values in **City**, we had no idea of which values could be associated with those 2 individuals. Therefore, as they were only 2 null values, we decided to **drop the two corresponding instances.**\n",
    "- For the null values in **Birthday_year** we decided to treat with the **KNN imputer**. "
   ]
  },
  {
   "cell_type": "code",
   "execution_count": 27,
   "metadata": {},
   "outputs": [],
   "source": [
    "# Drop variable Medical_Tent\n",
    "dftrain = dftrain.drop(columns = ['Medical_Tent'])\n",
    "dftest = dftest.drop(columns = ['Medical_Tent'])"
   ]
  },
  {
   "cell_type": "code",
   "execution_count": 28,
   "metadata": {},
   "outputs": [],
   "source": [
    "# Drop 2 rows that have no city\n",
    "dftrain = dftrain.drop(dftrain[dftrain.City.isna()].index)"
   ]
  },
  {
   "cell_type": "markdown",
   "metadata": {},
   "source": [
    "Before treating the **null values in Birthday_year**, we had to **encode the variables**, as there was the categorical variable City that would not be possible to use if it was kept as categorical. After encoding this variable, we considered the possibility of **using for the KNN imputer only the most important variables to determine Birthday_year**. To check which variables these could be, we firstly standardized the variables and then checked the **spearman and a pearson correlations** but there was no variable highly correlated in absolute value with Birthday_year. Then, we applied the **Lasso and Ridge regressions** to check the most important set of variables to determine Birthday_year. However, when analysing the results, we realized there were not variables that highlighted a lot on explaining Birthday_year. There were variables with higher values than others on the different techniques, but their scores was not that high. **We ended up using all variables available for the KNN inputer.** The steps described here are presented below."
   ]
  },
  {
   "cell_type": "code",
   "execution_count": 29,
   "metadata": {
    "scrolled": true
   },
   "outputs": [],
   "source": [
    "# Encode the categorical variable City\n",
    "dftrainNotEncoded = dftrain.copy(deep=True)\n",
    "dftestNotEncoded = dftest.copy(deep=True)\n",
    "\n",
    "def enconde_categorical(df):\n",
    "    dummy = pd.get_dummies(df[['City']])\n",
    "    df = pd.concat([df,dummy], axis=1)\n",
    "    df.drop(['City'], axis=1, inplace=True)\n",
    "    return df\n",
    "\n",
    "dftrain = enconde_categorical(dftrain)\n",
    "dftest = enconde_categorical(dftest)"
   ]
  },
  {
   "cell_type": "code",
   "execution_count": 30,
   "metadata": {},
   "outputs": [],
   "source": [
    "# Drop one binary variable of the encoded variable to avoid multicolinearity\n",
    "dftrain = dftrain.drop(columns=['City_Santa Fe'])\n",
    "dftest = dftest.drop(columns=['City_Santa Fe'])"
   ]
  },
  {
   "cell_type": "code",
   "execution_count": 31,
   "metadata": {},
   "outputs": [],
   "source": [
    "# Standardize data (Scaler):\n",
    "\n",
    "#dftrain\n",
    "scaler = StandardScaler()\n",
    "dfStdVarTrain = dftrain.drop(columns=['Deceased','ID','Family_ID'])\n",
    "\n",
    "# Scale of necessary vars \n",
    "scaled_features = scaler.fit_transform(dfStdVarTrain)\n",
    "dfStdVarTrain = pd.DataFrame(scaled_features, index=dfStdVarTrain.index, columns=dfStdVarTrain.columns)\n",
    "\n",
    "# dftest\n",
    "dfStdVarTest = dftest.drop(columns=['ID', 'Family_ID'])\n",
    "\n",
    "scaled_features = scaler.transform(dfStdVarTest)\n",
    "dfStdVarTest = pd.DataFrame(scaled_features, index=dfStdVarTest.index, columns=dfStdVarTest.columns)"
   ]
  },
  {
   "cell_type": "markdown",
   "metadata": {},
   "source": [
    "**Important Remark about Correlations:** We included the binary variables on the correlation study. It is true that it is wrong to include encoded categorical variables on the correlation study as their values do not have a numerical meaning (they are just indicators of categories). However, if we think in terms of binary variables, it does make sense to include them in the correlation study, as their values have a meaning (existence or non existence/ belonging or not belonging). This is why we included the binary variables on the correlation study. Another important thing to consider is that we excluded the variable Family_ID because of what was said here. This variable is categorical and its values do not have any numerical value. It would not make sense to include it because we would be giving more importance to individuals with higher identifier value than to those with lower."
   ]
  },
  {
   "cell_type": "code",
   "execution_count": 32,
   "metadata": {},
   "outputs": [
    {
     "data": {
      "image/png": "[encoded data removed]",
      "text/plain": [
       "<Figure size 720x288 with 2 Axes>"
      ]
     },
     "metadata": {},
     "output_type": "display_data"
    }
   ],
   "source": [
    "# Pearson Correlations\n",
    "Pearson_df = dftrain[['Severity', 'Female', 'Birthday_year',\n",
    "       'Parents_Children_Infected', 'Wife_Husband_Siblings_Infected',\n",
    "       'Medical_Expenses_Family', 'Deceased', 'City_Albuquerque', \n",
    "       'City_Taos']]\n",
    "cor_pearson = Pearson_df.corr()\n",
    "\n",
    "# Function to get a heatmap of Pearson Correlations\n",
    "def cor_heatmap(cor,n,m):\n",
    "    plt.figure(figsize=(n,m))\n",
    "    sns.heatmap(data = cor, annot = True, cmap = plt.cm.Reds)\n",
    "    plt.show()\n",
    "\n",
    "# Plot heatmap\n",
    "cor_heatmap(cor_pearson,10,4)"
   ]
  },
  {
   "cell_type": "code",
   "execution_count": 33,
   "metadata": {},
   "outputs": [
    {
     "data": {
      "image/png": "[encoded data removed]",
      "text/plain": [
       "<Figure size 720x288 with 2 Axes>"
      ]
     },
     "metadata": {},
     "output_type": "display_data"
    }
   ],
   "source": [
    "# Spearman Correlation\n",
    "Spearman_df = dftrain[['Severity', 'Female', 'Birthday_year',\n",
    "       'Parents_Children_Infected', 'Wife_Husband_Siblings_Infected',\n",
    "       'Medical_Expenses_Family', 'Deceased', 'City_Albuquerque', \n",
    "       'City_Taos']]\n",
    "cor_spearman = Spearman_df.corr(method ='spearman')\n",
    "\n",
    "# Plot heatmap\n",
    "cor_heatmap(cor_spearman,10,4)"
   ]
  },
  {
   "cell_type": "code",
   "execution_count": 34,
   "metadata": {},
   "outputs": [
    {
     "name": "stdout",
     "output_type": "stream",
     "text": [
      "Best alpha LassoCV: 28.959641\n"
     ]
    }
   ],
   "source": [
    "# Lasso Regression\n",
    "data_corr = dftrain.dropna()\n",
    "target_corr = data_corr[['Birthday_year']]\n",
    "data_corr = data_corr.drop(columns= ['Deceased','ID','Birthday_year'])\n",
    "modelSel = LassoCV()\n",
    "modelSel.fit(X = data_corr, y = target_corr)\n",
    "print(\"Best alpha LassoCV: %f\" % modelSel.alpha_)"
   ]
  },
  {
   "cell_type": "code",
   "execution_count": 35,
   "metadata": {},
   "outputs": [
    {
     "data": {
      "text/plain": [
       "Medical_Expenses_Family          -0.001133\n",
       "Family_ID                        -0.000014\n",
       "Severity                          0.000000\n",
       "Female                            0.000000\n",
       "Parents_Children_Infected         0.000000\n",
       "Wife_Husband_Siblings_Infected    0.000000\n",
       "City_Albuquerque                 -0.000000\n",
       "City_Taos                        -0.000000\n",
       "dtype: float64"
      ]
     },
     "execution_count": 35,
     "metadata": {},
     "output_type": "execute_result"
    }
   ],
   "source": [
    "# Get coefficients\n",
    "coef = pd.Series(modelSel.coef_, index = data_corr.columns)\n",
    "coef.sort_values()"
   ]
  },
  {
   "cell_type": "code",
   "execution_count": 36,
   "metadata": {},
   "outputs": [
    {
     "data": {
      "text/plain": [
       "RidgeCV(alphas=array([ 0.1,  1. , 10. ]), cv=None, fit_intercept=True,\n",
       "        gcv_mode=None, normalize=False, scoring=None, store_cv_values=False)"
      ]
     },
     "execution_count": 36,
     "metadata": {},
     "output_type": "execute_result"
    }
   ],
   "source": [
    "# Ridge Regression\n",
    "# Create an instance of ridge regression\n",
    "ridge = RidgeCV()\n",
    "\n",
    "# fit into data\n",
    "ridge.fit(X = data_corr, y = target_corr)"
   ]
  },
  {
   "cell_type": "code",
   "execution_count": 37,
   "metadata": {},
   "outputs": [],
   "source": [
    "coefs = ridge.coef_[0]"
   ]
  },
  {
   "cell_type": "code",
   "execution_count": 38,
   "metadata": {},
   "outputs": [
    {
     "data": {
      "text/plain": [
       "City_Taos                        -2.616562\n",
       "Family_ID                        -0.000016\n",
       "Medical_Expenses_Family           0.000708\n",
       "Parents_Children_Infected         0.802539\n",
       "City_Albuquerque                  1.991492\n",
       "Female                            2.954485\n",
       "Wife_Husband_Siblings_Infected    3.749710\n",
       "Severity                          7.147859\n",
       "dtype: float64"
      ]
     },
     "execution_count": 38,
     "metadata": {},
     "output_type": "execute_result"
    }
   ],
   "source": [
    "# check coefficients\n",
    "coef = pd.Series(coefs, index = data_corr.columns)\n",
    "coef.sort_values()"
   ]
  },
  {
   "cell_type": "markdown",
   "metadata": {},
   "source": [
    "**KNN Imputer**"
   ]
  },
  {
   "cell_type": "code",
   "execution_count": 39,
   "metadata": {},
   "outputs": [],
   "source": [
    "# Train set\n",
    "# Fit and transform KNN imputer\n",
    "imputer = KNNImputer(n_neighbors=3)\n",
    "dftrain_Std_noNan = imputer.fit_transform(dfStdVarTrain)\n",
    "# Reverse standardization\n",
    "dftrain_noStd_noNan = pd.DataFrame(scaler.inverse_transform(dftrain_Std_noNan), columns=dfStdVarTrain.columns)\n",
    "# Transform the Birthday_year values into integers\n",
    "dftrain_noStd_noNan.Birthday_year = dftrain_noStd_noNan.Birthday_year.astype(int)\n",
    "# Create dftrain_noNan dataframe with the values already inputed\n",
    "dftrain = dftrainNotEncoded.copy(deep=True)\n",
    "dftrain_noStd_noNan.reset_index(drop=True, inplace=True)\n",
    "dftrain.reset_index(drop=True, inplace=True)\n",
    "null_indexes = list(dftrain.loc[dftrain.Birthday_year.isna()].index)\n",
    "dftrain.loc[null_indexes, 'Birthday_year'] = dftrain_noStd_noNan.loc[null_indexes, 'Birthday_year']\n",
    "\n",
    "# Test set\n",
    "# Transform test_data with KNN imputer\n",
    "dftest_Std_noNan = imputer.transform(dfStdVarTest)\n",
    "# Reverse standardization\n",
    "dftest_noStd_noNan = pd.DataFrame(scaler.inverse_transform(dftest_Std_noNan), columns=dfStdVarTest.columns)\n",
    "# Transform the Birthday_year values into integers\n",
    "dftest_noStd_noNan.Birthday_year = dftest_noStd_noNan.Birthday_year.astype(int)\n",
    "# Create dftest_noNan dataframe with the values already inputed\n",
    "dftest = dftestNotEncoded.copy(deep=True)\n",
    "dftest_noStd_noNan.reset_index(drop=True, inplace=True)\n",
    "dftest.reset_index(drop=True, inplace=True)\n",
    "null_indexes = list(dftest.loc[dftest.Birthday_year.isna()].index)\n",
    "dftest.loc[null_indexes, 'Birthday_year'] = dftest_noStd_noNan.loc[null_indexes, 'Birthday_year']"
   ]
  },
  {
   "cell_type": "markdown",
   "metadata": {},
   "source": [
    "<h3> Feature Engineering"
   ]
  },
  {
   "cell_type": "code",
   "execution_count": 40,
   "metadata": {},
   "outputs": [],
   "source": [
    "# Create Nr_Family_Members_Infected \n",
    "dftrain['Nr_Family_Members_Infected'] = dftrain['Parents_Children_Infected'] + dftrain['Wife_Husband_Siblings_Infected']\n",
    "dftest['Nr_Family_Members_Infected'] = dftest['Parents_Children_Infected'] + dftest['Wife_Husband_Siblings_Infected']"
   ]
  },
  {
   "cell_type": "code",
   "execution_count": 41,
   "metadata": {},
   "outputs": [],
   "source": [
    "# # Fucntion that creates a set of variables grouping patients by Family_ID\n",
    "# mega_df = dftrain.append(dftest, ignore_index=True)\n",
    "\n",
    "# def create_variables_family(df):    \n",
    "#     Family_variables = pd.concat([df.groupby('Family_ID')['Parents_Children_Infected','Wife_Husband_Siblings_Infected'].sum(),df.groupby('Family_ID')['Severity'].count()], axis=1)\n",
    "#     Family_variables.rename(columns={'Parents_Children_Infected':'Sum_Parents_Children','Wife_Husband_Siblings_Infected': 'Sum_Wife_Husband_Siblings',\"Severity\": \"Registered_Family_Patients\"}, inplace=True)\n",
    "#     Family_variables = Family_variables.merge(df[['Family_ID','Medical_Expenses_Family']].drop_duplicates('Family_ID'), on='Family_ID', how='left')\n",
    "#     Family_variables['Medical_Expenses_Individual'] = Family_variables['Medical_Expenses_Family']/Family_variables['Registered_Family_Patients']\n",
    "#     Family_variables['Family_Members_Infected'] = Family_variables['Sum_Parents_Children'] + Family_variables['Sum_Wife_Husband_Siblings']\n",
    "#     Family_variables['NotRegistered_Members_Infected'] = Family_variables['Family_Members_Infected'] - Family_variables['Registered_Family_Patients']\n",
    "#     Family_variables.drop(columns=['Medical_Expenses_Family'], inplace = True)\n",
    "#     return pd.merge(df, Family_variables, on='Family_ID', how='left')\n",
    "\n",
    "# mega_df = create_variables_family(mega_df)\n",
    "\n",
    "# dftrain = mega_df.iloc[:895]\n",
    "# dftest = mega_df[895:]\n",
    "# dftest.drop(columns=['Deceased'], inplace= True)"
   ]
  },
  {
   "cell_type": "markdown",
   "metadata": {},
   "source": [
    "We thought about creating new variables based on the Family_ID variable. However, later on we realized including these variables in the model would turn the results much worse. In fact, we suspect this variable has a problem related with its creation. In spite of this, we left the code on the cell above if necessary to check."
   ]
  },
  {
   "cell_type": "code",
   "execution_count": 42,
   "metadata": {},
   "outputs": [],
   "source": [
    "# Create variable age through Bithday_year variable\n",
    "dftrain['Age'] = datetime.datetime.now().year - dftrain['Birthday_year']\n",
    "dftest['Age'] = datetime.datetime.now().year - dftest['Birthday_year']"
   ]
  },
  {
   "cell_type": "code",
   "execution_count": 43,
   "metadata": {},
   "outputs": [],
   "source": [
    "# Create variable representing the Medical_Expenses per Infected member of the family\n",
    "# If Medical_Expenses_Family is zero this means there were no Expenses so the new variable will have value zero\n",
    "# If Family_Members_Infected is zero then there were no expenses per infected member so the new variable will have value zero\n",
    "#dftrain['Medical_Expenses_PerMember'] = np.where((dftrain['Medical_Expenses_Family']==0)|(dftrain['Family_Members_Infected']==0), 0, dftrain['Medical_Expenses_Family']/dftrain['Family_Members_Infected'])\n",
    "#dftest['Medical_Expenses_PerMember'] = np.where((dftest['Medical_Expenses_Family']==0)|(dftest['Family_Members_Infected']==0), 0, dftest['Medical_Expenses_Family']/dftest['Family_Members_Infected'])"
   ]
  },
  {
   "cell_type": "markdown",
   "metadata": {},
   "source": [
    "In the previous cell we created a variable called Medical_Expenses_PerMember, representing the Medical_Expenses per Infected member of the family. After doing feature selection, we realized this variable was not that good so, we decided to comment it, as it will not be used on the final model."
   ]
  },
  {
   "cell_type": "markdown",
   "metadata": {},
   "source": [
    "Let's now **drop the variable Family_ID** as it will not be needed anymore. As it is **categorical**, it **does not make sense to include it in the model because its values have no numerical meaning** (they are just family identifiers). If we included it in the model we would be influencing the results in an incorrect way, as we would be saying individuals with a higher ID would have a higher value than indivíduals with lower ID, which does not make sense."
   ]
  },
  {
   "cell_type": "code",
   "execution_count": 44,
   "metadata": {},
   "outputs": [],
   "source": [
    "# Drop Family_ID\n",
    "dftrain = dftrain.drop(columns=['Family_ID'])\n",
    "dftest = dftest.drop(columns=['Family_ID'])"
   ]
  },
  {
   "cell_type": "markdown",
   "metadata": {},
   "source": [
    "<h3> Encode Categorical Variables"
   ]
  },
  {
   "cell_type": "code",
   "execution_count": 45,
   "metadata": {
    "scrolled": true
   },
   "outputs": [],
   "source": [
    "# Encode City variable on train and test sets\n",
    "dftrain = enconde_categorical(dftrain)\n",
    "dftest = enconde_categorical(dftest)"
   ]
  },
  {
   "cell_type": "code",
   "execution_count": 46,
   "metadata": {},
   "outputs": [],
   "source": [
    "# Drop City_Taos variable from train and test sets to avoid multicollinearity \n",
    "dftrain = dftrain.drop(columns=['City_Taos'])\n",
    "dftest = dftest.drop(columns=['City_Taos'])"
   ]
  },
  {
   "cell_type": "markdown",
   "metadata": {},
   "source": [
    "<h2> Division of dftrain into Train and Validation sets"
   ]
  },
  {
   "cell_type": "markdown",
   "metadata": {},
   "source": [
    "We decided to **split the dftrain data set into train and validation data sets** with 80/20% respectively. We decided so, in order to be able to asses the model performance before submiting to kaggle and getting results for the test set. For this division we used the stratified option. As the dftrain is slightly unbalanced, a **stratified division** was needed in order to split in a stratified way. \n"
   ]
  },
  {
   "cell_type": "code",
   "execution_count": 47,
   "metadata": {},
   "outputs": [],
   "source": [
    "# Split the dftrain into data and target\n",
    "data = dftrain.drop(columns=['ID','Deceased'])\n",
    "target = dftrain[['Deceased']]"
   ]
  },
  {
   "cell_type": "code",
   "execution_count": 48,
   "metadata": {},
   "outputs": [],
   "source": [
    "# Split data into X_train, X_val, y_train and y_val\n",
    "X_train, X_val, y_train, y_val = train_test_split(data, \n",
    "                                                    target, \n",
    "                                                    test_size=0.2,\n",
    "                                                    stratify=target,\n",
    "                                                    random_state=5)\n",
    "X_test = dftest.copy(deep=True)\n",
    "X_test = X_test.drop(columns=['ID'])"
   ]
  },
  {
   "cell_type": "markdown",
   "metadata": {},
   "source": [
    "<h3>Standartization"
   ]
  },
  {
   "cell_type": "code",
   "execution_count": 49,
   "metadata": {},
   "outputs": [],
   "source": [
    "# Options:\n",
    "minmax = False\n",
    "standardscaler = True "
   ]
  },
  {
   "cell_type": "code",
   "execution_count": 50,
   "metadata": {},
   "outputs": [],
   "source": [
    "if minmax:\n",
    "    #train_data\n",
    "    min_maxs = MinMaxScaler()\n",
    "    X_train = min_maxs.fit_transform(X_train)\n",
    "    #val_data\n",
    "    X_val = min_maxs.transform(X_val)\n",
    "    #test_data\n",
    "    X_test = min_maxs.transform(X_test)\n",
    "    \n",
    "if standardscaler:\n",
    "    #train_data\n",
    "    sscaler = StandardScaler()\n",
    "    X_train = sscaler.fit_transform(X_train)\n",
    "    #val_data\n",
    "    X_val = sscaler.transform(X_val)\n",
    "    #val_data\n",
    "    X_test = sscaler.transform(X_test)"
   ]
  },
  {
   "cell_type": "code",
   "execution_count": 51,
   "metadata": {},
   "outputs": [],
   "source": [
    "# Update X_train, X_val and X_test with standardized data\n",
    "X_train = pd.DataFrame(data=X_train, columns=data.columns)\n",
    "X_val = pd.DataFrame(data=X_val, columns=data.columns)\n",
    "X_test = pd.DataFrame(data=X_test, columns=data.columns)"
   ]
  },
  {
   "cell_type": "markdown",
   "metadata": {},
   "source": [
    "<h3> Feature Selection"
   ]
  },
  {
   "cell_type": "markdown",
   "metadata": {},
   "source": [
    "For feature selection, we decided to have in mind different techniques: **ANova, Decision Tree, Correlations, RidgeClassifier and RFE.** When deciding to apply all these techniques, we had in mind the target variable was categorical. When building the correlation matrices, we included all the available variables. There are no categorical variables besides the binary ones, so it is possible to include all when calculating the correlations (check justification placed before applying the KNN imputer)."
   ]
  },
  {
   "cell_type": "markdown",
   "metadata": {},
   "source": [
    "**Anova** "
   ]
  },
  {
   "cell_type": "code",
   "execution_count": 52,
   "metadata": {},
   "outputs": [
    {
     "name": "stdout",
     "output_type": "stream",
     "text": [
      "Original number of features: 10\n",
      "Reduced number of features: 10\n"
     ]
    }
   ],
   "source": [
    "X_anova = X_train.copy(deep=True)\n",
    "y_anova = y_train.copy(deep=True)\n",
    "fvalue_selector = SelectKBest(f_classif, k=10)\n",
    "\n",
    "# Apply the SelectKBest object to the features and target\n",
    "X_anova_best = fvalue_selector.fit_transform(X_anova, y_anova)\n",
    "print('Original number of features:', X_anova.shape[1])\n",
    "print('Reduced number of features:', X_anova_best.shape[1])"
   ]
  },
  {
   "cell_type": "code",
   "execution_count": 53,
   "metadata": {},
   "outputs": [
    {
     "data": {
      "text/plain": [
       "['Severity',\n",
       " 'Female',\n",
       " 'Birthday_year',\n",
       " 'Parents_Children_Infected',\n",
       " 'Wife_Husband_Siblings_Infected',\n",
       " 'Medical_Expenses_Family',\n",
       " 'Nr_Family_Members_Infected',\n",
       " 'Age',\n",
       " 'City_Albuquerque',\n",
       " 'City_Santa Fe']"
      ]
     },
     "execution_count": 53,
     "metadata": {},
     "output_type": "execute_result"
    }
   ],
   "source": [
    "# Get best variables\n",
    "mask = fvalue_selector.get_support()\n",
    "anova_columns_names = []\n",
    "\n",
    "for boolean, column in zip(mask, data.columns):\n",
    "    if boolean:\n",
    "        anova_columns_names.append(column)\n",
    "anova_columns_names"
   ]
  },
  {
   "cell_type": "code",
   "execution_count": 54,
   "metadata": {},
   "outputs": [],
   "source": [
    "# Create a Data Frame with Feature selection results\n",
    "Selection_Table = pd.DataFrame(columns=['Variables','ANova','Decision Tree','Ridge Classifier','RFE','Count'])\n",
    "Selection_Table['Variables'] = X_train.columns\n",
    "Selection_Table['ANova']=np.where(Selection_Table['Variables'].isin(anova_columns_names),1,0)"
   ]
  },
  {
   "cell_type": "markdown",
   "metadata": {},
   "source": [
    "**Decision Tree**"
   ]
  },
  {
   "cell_type": "code",
   "execution_count": 55,
   "metadata": {},
   "outputs": [
    {
     "data": {
      "text/plain": [
       "<matplotlib.axes._subplots.AxesSubplot at 0x25dcb433a48>"
      ]
     },
     "execution_count": 55,
     "metadata": {},
     "output_type": "execute_result"
    },
    {
     "data": {
      "image/png": "[encoded data removed]",
      "text/plain": [
       "<Figure size 720x576 with 1 Axes>"
      ]
     },
     "metadata": {},
     "output_type": "display_data"
    }
   ],
   "source": [
    "# Apply Decision Tree and get results\n",
    "decision_tree = DecisionTreeClassifier(random_state = 4)\n",
    "decision_tree.fit(X_train, y_train)\n",
    " \n",
    "importances = decision_tree.feature_importances_\n",
    "features = X_train.columns\n",
    "data_tuples = list(zip(importances, features))\n",
    "data = pd.DataFrame(data_tuples, columns = ['importances', 'features'])\n",
    "data = data.sort_values('importances', ascending = False)\n",
    "plt.figure(figsize=(10,8))\n",
    "sns.barplot(data['importances'], data['features'], palette = 'cubehelix', orient = 'h')"
   ]
  },
  {
   "cell_type": "code",
   "execution_count": 56,
   "metadata": {},
   "outputs": [],
   "source": [
    "# select TOP 10 most important variables\n",
    "data = data.sort_values(by='importances')\n",
    "data = data.tail(10)\n",
    "TOPFeaturesDT = list(data.features)\n",
    "# Update Selection_Table\n",
    "Selection_Table['Decision Tree']=np.where(Selection_Table['Variables'].isin(TOPFeaturesDT),1,0)"
   ]
  },
  {
   "cell_type": "markdown",
   "metadata": {},
   "source": [
    "**Correlations**"
   ]
  },
  {
   "cell_type": "code",
   "execution_count": 57,
   "metadata": {},
   "outputs": [],
   "source": [
    "# Prepare data for correlation study\n",
    "y_traincoor = y_train.reset_index()\n",
    "dftrainCorr = pd.concat([X_train,y_traincoor], axis=1,ignore_index=True)\n",
    "dftrainCorr.columns = list(X_train.columns)+list(y_traincoor.columns)"
   ]
  },
  {
   "cell_type": "code",
   "execution_count": 58,
   "metadata": {},
   "outputs": [
    {
     "data": {
      "image/png": "[encoded data removed]",
      "text/plain": [
       "<Figure size 2160x1440 with 2 Axes>"
      ]
     },
     "metadata": {},
     "output_type": "display_data"
    }
   ],
   "source": [
    "# Get Pearson and Spearman correlations\n",
    "cor_Pearson = dftrainCorr.corr()\n",
    "cor_Spearman = dftrainCorr.corr(method ='spearman')\n",
    "\n",
    "# Get Pearson matrix\n",
    "cor_heatmap(cor_Pearson,30,20)"
   ]
  },
  {
   "cell_type": "code",
   "execution_count": 59,
   "metadata": {},
   "outputs": [
    {
     "data": {
      "image/png": "[encoded data removed]",
      "text/plain": [
       "<Figure size 2160x1440 with 2 Axes>"
      ]
     },
     "metadata": {},
     "output_type": "display_data"
    }
   ],
   "source": [
    "# Get Spearman matrix\n",
    "cor_heatmap(cor_Spearman,30,20)"
   ]
  },
  {
   "cell_type": "markdown",
   "metadata": {},
   "source": [
    "There are **no highly correlated variables with the target variable Deceased**. We will use these matrices to analyse which variables are highly correlated with each other and to support feature selection later on based on that."
   ]
  },
  {
   "cell_type": "markdown",
   "metadata": {},
   "source": [
    "**Ridge Classifier**"
   ]
  },
  {
   "cell_type": "code",
   "execution_count": 60,
   "metadata": {},
   "outputs": [
    {
     "name": "stdout",
     "output_type": "stream",
     "text": [
      "Best score using built-in LassoCV: 0.791899\n"
     ]
    }
   ],
   "source": [
    "# Apply Ridge classifier\n",
    "Ridge = RidgeClassifier().fit(X_train, y_train)\n",
    "print(\"Best score using built-in LassoCV: %f\" %Ridge.score(X_train,y_train))"
   ]
  },
  {
   "cell_type": "code",
   "execution_count": 61,
   "metadata": {},
   "outputs": [],
   "source": [
    "# Get coefficients\n",
    "coefs = []\n",
    "for i in Ridge.coef_:\n",
    "    for j in i:\n",
    "        coefs.append(j)"
   ]
  },
  {
   "cell_type": "code",
   "execution_count": 62,
   "metadata": {
    "scrolled": false
   },
   "outputs": [
    {
     "name": "stdout",
     "output_type": "stream",
     "text": [
      "Female                           -0.473676\n",
      "Birthday_year                    -0.097308\n",
      "Parents_Children_Infected        -0.025121\n",
      "City_Albuquerque                 -0.016339\n",
      "Medical_Expenses_Family           0.027018\n",
      "Nr_Family_Members_Infected        0.049418\n",
      "City_Santa Fe                     0.053529\n",
      "Wife_Husband_Siblings_Infected    0.089880\n",
      "Age                               0.097308\n",
      "Severity                          0.336539\n",
      "dtype: float64\n"
     ]
    },
    {
     "data": {
      "image/png": "[encoded data removed]",
      "text/plain": [
       "<Figure size 576x720 with 1 Axes>"
      ]
     },
     "metadata": {},
     "output_type": "display_data"
    }
   ],
   "source": [
    "# Get results of variables' importances through Ridge\n",
    "coef_ridge = pd.Series(coefs, index = X_train.columns).sort_values()\n",
    "print(coef_ridge)\n",
    "\n",
    "# Plot the importances of the different variables:\n",
    "def plot_importance(coef,name):\n",
    "    imp_coef = coef.sort_values()\n",
    "    plt.figure(figsize=(8,10))\n",
    "    imp_coef.plot(kind = \"barh\")\n",
    "    plt.title(\"Feature importance using \" + name + \" Model\")\n",
    "    plt.show()\n",
    "    \n",
    "plot_importance(coef_ridge,'Ridge')"
   ]
  },
  {
   "cell_type": "code",
   "execution_count": 63,
   "metadata": {},
   "outputs": [],
   "source": [
    "# select TOP 10 most important variables\n",
    "TOPFeaturesRidge = coef_ridge.abs().sort_values()\n",
    "TOPFeaturesRidge = TOPFeaturesRidge.tail(10)\n",
    "TOPFeaturesRidge = list(TOPFeaturesRidge.index)\n",
    "\n",
    "# Update Selection_Table\n",
    "Selection_Table['Ridge Classifier']=np.where(Selection_Table['Variables'].isin(TOPFeaturesRidge),1,0)"
   ]
  },
  {
   "cell_type": "markdown",
   "metadata": {},
   "source": [
    "**RFE**"
   ]
  },
  {
   "cell_type": "code",
   "execution_count": 64,
   "metadata": {},
   "outputs": [],
   "source": [
    "# Implement RFE \n",
    "estimator = SVC(kernel=\"linear\")\n",
    "RFE_selector = RFE(estimator, n_features_to_select=10, step=1)\n",
    "RFE_selector = RFE_selector.fit(X_train, y_train)"
   ]
  },
  {
   "cell_type": "code",
   "execution_count": 65,
   "metadata": {},
   "outputs": [
    {
     "data": {
      "text/plain": [
       "['Severity',\n",
       " 'Female',\n",
       " 'Birthday_year',\n",
       " 'Parents_Children_Infected',\n",
       " 'Wife_Husband_Siblings_Infected',\n",
       " 'Medical_Expenses_Family',\n",
       " 'Nr_Family_Members_Infected',\n",
       " 'Age',\n",
       " 'City_Albuquerque',\n",
       " 'City_Santa Fe']"
      ]
     },
     "execution_count": 65,
     "metadata": {},
     "output_type": "execute_result"
    }
   ],
   "source": [
    "# Get best features\n",
    "selected_features = pd.Series(RFE_selector.support_, index = X_train.columns)\n",
    "TOPFeaturesRFE = selected_features[selected_features.values==True]\n",
    "TOPFeaturesRFE = list(TOPFeaturesRFE.index)\n",
    "TOPFeaturesRFE"
   ]
  },
  {
   "cell_type": "code",
   "execution_count": 66,
   "metadata": {},
   "outputs": [],
   "source": [
    "# Update Selection_Table\n",
    "Selection_Table['RFE']=np.where(Selection_Table['Variables'].isin(TOPFeaturesRFE),1,0)"
   ]
  },
  {
   "cell_type": "code",
   "execution_count": 67,
   "metadata": {},
   "outputs": [],
   "source": [
    "# Fill column Count\n",
    "Selection_Table['Count'] = Selection_Table['ANova'] + Selection_Table['Decision Tree'] + Selection_Table['Ridge Classifier'] + Selection_Table['RFE']"
   ]
  },
  {
   "cell_type": "code",
   "execution_count": 68,
   "metadata": {},
   "outputs": [],
   "source": [
    "# Update selection table just for count higher than 1\n",
    "Selection_Table = Selection_Table[Selection_Table.Count>1]\n",
    "Selection_Table = Selection_Table.sort_values(by='Count', ascending=False)"
   ]
  },
  {
   "cell_type": "code",
   "execution_count": 69,
   "metadata": {},
   "outputs": [],
   "source": [
    "# Create Correlation_Deceased on selection table\n",
    "Selection_Table['Correlation_Deceased']=list(range(0,len(Selection_Table)))"
   ]
  },
  {
   "cell_type": "code",
   "execution_count": 70,
   "metadata": {},
   "outputs": [],
   "source": [
    "# Get correlations with the target variable into selection table\n",
    "for i in list(Selection_Table.Variables):\n",
    "    Selection_Table.loc[Selection_Table.Variables==i,'Correlation_Deceased'] = cor_Pearson.loc[cor_Pearson.index==i,'Deceased'].values[0]"
   ]
  },
  {
   "cell_type": "code",
   "execution_count": 71,
   "metadata": {},
   "outputs": [
    {
     "data": {
      "text/html": [
       "<div>\n",
       "<style scoped>\n",
       "    .dataframe tbody tr th:only-of-type {\n",
       "        vertical-align: middle;\n",
       "    }\n",
       "\n",
       "    .dataframe tbody tr th {\n",
       "        vertical-align: top;\n",
       "    }\n",
       "\n",
       "    .dataframe thead th {\n",
       "        text-align: right;\n",
       "    }\n",
       "</style>\n",
       "<table border=\"1\" class=\"dataframe\">\n",
       "  <thead>\n",
       "    <tr style=\"text-align: right;\">\n",
       "      <th></th>\n",
       "      <th>Variables</th>\n",
       "      <th>ANova</th>\n",
       "      <th>Decision Tree</th>\n",
       "      <th>Ridge Classifier</th>\n",
       "      <th>RFE</th>\n",
       "      <th>Count</th>\n",
       "      <th>Correlation_Deceased</th>\n",
       "    </tr>\n",
       "  </thead>\n",
       "  <tbody>\n",
       "    <tr>\n",
       "      <th>0</th>\n",
       "      <td>Severity</td>\n",
       "      <td>1</td>\n",
       "      <td>1</td>\n",
       "      <td>1</td>\n",
       "      <td>1</td>\n",
       "      <td>4</td>\n",
       "      <td>0.308949</td>\n",
       "    </tr>\n",
       "    <tr>\n",
       "      <th>1</th>\n",
       "      <td>Female</td>\n",
       "      <td>1</td>\n",
       "      <td>1</td>\n",
       "      <td>1</td>\n",
       "      <td>1</td>\n",
       "      <td>4</td>\n",
       "      <td>-0.538467</td>\n",
       "    </tr>\n",
       "    <tr>\n",
       "      <th>2</th>\n",
       "      <td>Birthday_year</td>\n",
       "      <td>1</td>\n",
       "      <td>1</td>\n",
       "      <td>1</td>\n",
       "      <td>1</td>\n",
       "      <td>4</td>\n",
       "      <td>-0.093285</td>\n",
       "    </tr>\n",
       "    <tr>\n",
       "      <th>3</th>\n",
       "      <td>Parents_Children_Infected</td>\n",
       "      <td>1</td>\n",
       "      <td>1</td>\n",
       "      <td>1</td>\n",
       "      <td>1</td>\n",
       "      <td>4</td>\n",
       "      <td>-0.086305</td>\n",
       "    </tr>\n",
       "    <tr>\n",
       "      <th>4</th>\n",
       "      <td>Wife_Husband_Siblings_Infected</td>\n",
       "      <td>1</td>\n",
       "      <td>1</td>\n",
       "      <td>1</td>\n",
       "      <td>1</td>\n",
       "      <td>4</td>\n",
       "      <td>0.039094</td>\n",
       "    </tr>\n",
       "    <tr>\n",
       "      <th>5</th>\n",
       "      <td>Medical_Expenses_Family</td>\n",
       "      <td>1</td>\n",
       "      <td>1</td>\n",
       "      <td>1</td>\n",
       "      <td>1</td>\n",
       "      <td>4</td>\n",
       "      <td>-0.237748</td>\n",
       "    </tr>\n",
       "    <tr>\n",
       "      <th>6</th>\n",
       "      <td>Nr_Family_Members_Infected</td>\n",
       "      <td>1</td>\n",
       "      <td>1</td>\n",
       "      <td>1</td>\n",
       "      <td>1</td>\n",
       "      <td>4</td>\n",
       "      <td>-0.016092</td>\n",
       "    </tr>\n",
       "    <tr>\n",
       "      <th>7</th>\n",
       "      <td>Age</td>\n",
       "      <td>1</td>\n",
       "      <td>1</td>\n",
       "      <td>1</td>\n",
       "      <td>1</td>\n",
       "      <td>4</td>\n",
       "      <td>0.093285</td>\n",
       "    </tr>\n",
       "    <tr>\n",
       "      <th>8</th>\n",
       "      <td>City_Albuquerque</td>\n",
       "      <td>1</td>\n",
       "      <td>1</td>\n",
       "      <td>1</td>\n",
       "      <td>1</td>\n",
       "      <td>4</td>\n",
       "      <td>-0.171449</td>\n",
       "    </tr>\n",
       "    <tr>\n",
       "      <th>9</th>\n",
       "      <td>City_Santa Fe</td>\n",
       "      <td>1</td>\n",
       "      <td>1</td>\n",
       "      <td>1</td>\n",
       "      <td>1</td>\n",
       "      <td>4</td>\n",
       "      <td>0.164797</td>\n",
       "    </tr>\n",
       "  </tbody>\n",
       "</table>\n",
       "</div>"
      ],
      "text/plain": [
       "                        Variables  ANova  Decision Tree  Ridge Classifier  \\\n",
       "0                        Severity      1              1                 1   \n",
       "1                          Female      1              1                 1   \n",
       "2                   Birthday_year      1              1                 1   \n",
       "3       Parents_Children_Infected      1              1                 1   \n",
       "4  Wife_Husband_Siblings_Infected      1              1                 1   \n",
       "5         Medical_Expenses_Family      1              1                 1   \n",
       "6      Nr_Family_Members_Infected      1              1                 1   \n",
       "7                             Age      1              1                 1   \n",
       "8                City_Albuquerque      1              1                 1   \n",
       "9                   City_Santa Fe      1              1                 1   \n",
       "\n",
       "   RFE  Count  Correlation_Deceased  \n",
       "0    1      4              0.308949  \n",
       "1    1      4             -0.538467  \n",
       "2    1      4             -0.093285  \n",
       "3    1      4             -0.086305  \n",
       "4    1      4              0.039094  \n",
       "5    1      4             -0.237748  \n",
       "6    1      4             -0.016092  \n",
       "7    1      4              0.093285  \n",
       "8    1      4             -0.171449  \n",
       "9    1      4              0.164797  "
      ]
     },
     "execution_count": 71,
     "metadata": {},
     "output_type": "execute_result"
    }
   ],
   "source": [
    "# Get selection table\n",
    "Selection_Table"
   ]
  },
  {
   "cell_type": "markdown",
   "metadata": {},
   "source": [
    "To determine which of these variables should be used on the model, we took into consideration the correlations between variables. Some of these were not used on modelling as they were highly correlated (above 0.8) with each other. We also had in mind the correlations with the target variable and gave more importance to the higher correlated variables. We ended up choosing the following variables: **'Female','Severity',  'Medical_Expenses_Family', 'City_Albuquerque','City_Santa Fe','Age', 'Wife_Husband_Siblings_Infected'.**"
   ]
  },
  {
   "cell_type": "code",
   "execution_count": 72,
   "metadata": {},
   "outputs": [],
   "source": [
    "# Reduce variables into the ones chosen on feature selection\n",
    "X_train_selection = X_train[['Female','Severity',  'Medical_Expenses_Family', 'City_Albuquerque',\n",
    "                    'City_Santa Fe','Age', 'Wife_Husband_Siblings_Infected']]\n",
    "X_val_selection = X_val[['Female','Severity', 'Medical_Expenses_Family', 'City_Albuquerque',\n",
    "                    'City_Santa Fe','Age', 'Wife_Husband_Siblings_Infected']]\n",
    "X_test_selection = X_test[['Female','Severity',  'Medical_Expenses_Family', 'City_Albuquerque',\n",
    "                    'City_Santa Fe','Age', 'Wife_Husband_Siblings_Infected']]"
   ]
  },
  {
   "cell_type": "markdown",
   "metadata": {},
   "source": [
    "# <font color='#E8800A'>Modeling</font> <a class=\"anchor\" id=\"fourth-bullet\"></a>\n",
    "  [Back to TOC](#menu)"
   ]
  },
  {
   "cell_type": "markdown",
   "metadata": {},
   "source": [
    "Models used:\n",
    "- KNN \n",
    "- Logistic Regression Classifier\n",
    "- Naive Bayes \n",
    "- SVC - SVM \n",
    "- Decision Trees\n",
    "- RNN \n",
    "- Random Forest\n",
    "\n",
    "Ensemblers of models:\n",
    "- Bagging\n",
    "- Stacking\n",
    "\n",
    "Extra libraries used: \n",
    "- Tensor flow\n",
    "- keras "
   ]
  },
  {
   "cell_type": "markdown",
   "metadata": {},
   "source": [
    "<h2><font color='#1e91c7'>KNN</font> </h2>"
   ]
  },
  {
   "cell_type": "markdown",
   "metadata": {},
   "source": [
    "**Try with default parameters**"
   ]
  },
  {
   "cell_type": "code",
   "execution_count": 73,
   "metadata": {},
   "outputs": [],
   "source": [
    "# # Define and fit model\n",
    "# KNN_model_default = KNeighborsClassifier()\n",
    "# KNN_model_default.fit(X_train_selection,y_train)\n",
    "\n",
    "# # Check scores\n",
    "# print(KNN_model_default.score(X_train_selection,y_train))\n",
    "# print(KNN_model_default.score(X_val_selection,y_val))\n",
    "# # Low overfitting"
   ]
  },
  {
   "cell_type": "markdown",
   "metadata": {},
   "source": [
    "**Try with best parameters**"
   ]
  },
  {
   "cell_type": "code",
   "execution_count": 74,
   "metadata": {},
   "outputs": [],
   "source": [
    "# # Define and fit model\n",
    "# KNN = KNeighborsClassifier(algorithm='brute',leaf_size=5,metric='mahalanobis',n_neighbors = 5,p=2,weights='uniform')\n",
    "# KNN.fit(X_train_selection,y_train)\n",
    "\n",
    "# # Check scores\n",
    "# print(KNN.score(X_train_selection,y_train))\n",
    "# print(KNN.score(X_val_selection,y_val))\n",
    "# # Low overfitting"
   ]
  },
  {
   "cell_type": "markdown",
   "metadata": {},
   "source": [
    "**Grid Search**"
   ]
  },
  {
   "cell_type": "code",
   "execution_count": 75,
   "metadata": {},
   "outputs": [],
   "source": [
    "# # Define parameters of Grid Search 1\n",
    "# parameter_space = {\n",
    "#     'n_neighbors':[3,4,5,10,15,20,30,40],\n",
    "#     'weights':['uniform','distance'],\n",
    "#     'algorithm':['auto','ball_tree','kd_tree','brute'],\n",
    "#     'leaf_size':[5,10,20,30,40,50],\n",
    "#     'p':[1,2],\n",
    "#     'metric':['minkowski','mahalanobis']\n",
    "# }"
   ]
  },
  {
   "cell_type": "code",
   "execution_count": 76,
   "metadata": {},
   "outputs": [],
   "source": [
    "# # Define and fit Grid Search 1\n",
    "# clf_r1 = GridSearchCV(KNN_model_default, parameter_space, cv=StratifiedKFold(n_splits=5, shuffle=True),verbose=1,n_jobs=4)\n",
    "# clf_r1.fit(X_train_selection,y_train)"
   ]
  },
  {
   "cell_type": "code",
   "execution_count": 77,
   "metadata": {},
   "outputs": [],
   "source": [
    "# # Check Results\n",
    "\n",
    "# # Get means, stds and parameters for all tried combinations\n",
    "# means_test = pd.DataFrame(clf_r1.cv_results_['mean_test_score'])\n",
    "# stds_test = pd.DataFrame(clf_r1.cv_results_['std_test_score'])\n",
    "# params = clf_r1.cv_results_['params']\n",
    "\n",
    "# # Build a data frame with these values\n",
    "# results = pd.DataFrame(params)\n",
    "# results = pd.concat([results,means_test], axis=1)\n",
    "# results = pd.concat([results,stds_test],axis=1)\n",
    "# results.columns=['algorithm','leaf_size','metric','n_neighbors','p','weights','mean_test','std_test'] \n",
    "# results = results.sort_values(by=['mean_test','std_test'], ascending=False)\n",
    "\n",
    "# # Get models\n",
    "# results.head(20) "
   ]
  },
  {
   "cell_type": "markdown",
   "metadata": {},
   "source": [
    "<h2><font color='#1e91c7'>Neural Networks</font> </h2>"
   ]
  },
  {
   "cell_type": "markdown",
   "metadata": {},
   "source": [
    "**hidden_layer_sizes**: for a first approach decided to follow the recommended rules of thumb presented by the professor on a practical class:\n",
    "- **The number of hidden neurons should be between the size of the input layer and the size of the output layer:** in our case the size of the input layer is of 7 and the output layer 2, so the number of neurons should be in the interval (2-7).\n",
    "- **The number of hidden neurons should be 2/3 the size of the input layer, plus the size of the output layer:** in our case it should be (2/3) * 7 + 2 = 6.66  which in approximation is 7.\n",
    "- **The number of hidden neurons should be less than twice the size of the input layer:** in our case it should be less than 2*7 = 14."
   ]
  },
  {
   "cell_type": "markdown",
   "metadata": {},
   "source": [
    "**Try with best parameters**"
   ]
  },
  {
   "cell_type": "code",
   "execution_count": 78,
   "metadata": {},
   "outputs": [],
   "source": [
    "# # Define and fit model\n",
    "# NN = MLPClassifier(early_stopping=True, activation='tanh',hidden_layer_sizes=(32,6),learning_rate_init=0.05,random_state=2,solver='adam')\n",
    "# NN.fit(X_train_selection,y_train)\n",
    "\n",
    "# # Check scores\n",
    "# print(NN.score(X_train_selection,y_train))\n",
    "# print(NN.score(X_val_selection,y_val))\n",
    "# # Low overfitting"
   ]
  },
  {
   "cell_type": "code",
   "execution_count": 79,
   "metadata": {},
   "outputs": [],
   "source": [
    "# # Dedine and fit model\n",
    "# NN = MLPClassifier(early_stopping=True, activation='tanh',hidden_layer_sizes=(3,20,15),learning_rate='adaptive',learning_rate_init=0.05,random_state=1,solver='adam')\n",
    "# NN.fit(X_train_selection,y_train)\n",
    "\n",
    "# # Check scores\n",
    "# print(NN.score(X_train_selection,y_train))\n",
    "# print(NN.score(X_val_selection,y_val)) "
   ]
  },
  {
   "cell_type": "markdown",
   "metadata": {},
   "source": [
    "**Try with bagging**"
   ]
  },
  {
   "cell_type": "code",
   "execution_count": 80,
   "metadata": {},
   "outputs": [],
   "source": [
    "# # Define and fit bagging\n",
    "# bagging_nn_best = BaggingClassifier(base_estimator=MLPClassifier(\n",
    "#                                         early_stopping=True, activation='tanh',hidden_layer_sizes=(3,20,15),\n",
    "#                                         learning_rate='adaptive',learning_rate_init=0.05,random_state=1,solver='adam'),\n",
    "#                         n_estimators=100, random_state=0)\n",
    "# bagging_nn_best.fit(X_train_selection, y_train)\n",
    "\n",
    "# # Check scores\n",
    "# print(bagging_nn_best.score(X_train_selection, y_train))\n",
    "# print(bagging_nn_best.score(X_val_selection, y_val))"
   ]
  },
  {
   "cell_type": "markdown",
   "metadata": {},
   "source": [
    "**Grid Search**"
   ]
  },
  {
   "cell_type": "code",
   "execution_count": 81,
   "metadata": {},
   "outputs": [],
   "source": [
    "# # Create model\n",
    "# NN = MLPClassifier(early_stopping=True)\n",
    "\n",
    "# # Define parameters of Grid Search 2\n",
    "# parameter_space = {\n",
    "#     'hidden_layer_sizes': [(2,),(4,),(7,),(2,2),(4,2),(2,4),(3,4),(4,3),(5,2),\n",
    "#                            (2,5),(2,2,3),(3,2,2),(2,3,2),\n",
    "#                            (7,7),(5,9),(9,5),(5,5,4),(4,5,5),(5,4,5)],\n",
    "#     'activation': ['logistic','tanh','relu'],\n",
    "#     'solver': ['lgfgs','sgd', 'adam'],\n",
    "#     'learning_rate_init': [0.01,0.001,0.0001],\n",
    "#     'random_state': [1,2,3,4],\n",
    "#     'learning_rate': ['adaptive','constant','invscaling']\n",
    "# }"
   ]
  },
  {
   "cell_type": "code",
   "execution_count": 82,
   "metadata": {},
   "outputs": [],
   "source": [
    "# # Define and fit Grid Search 2\n",
    "# clf_r2 = GridSearchCV(NN, parameter_space, cv=StratifiedKFold(n_splits=5, shuffle=True),verbose=1,n_jobs=4)\n",
    "# clf_r2.fit(X_train_selection,y_train)"
   ]
  },
  {
   "cell_type": "code",
   "execution_count": 83,
   "metadata": {},
   "outputs": [],
   "source": [
    "# # Check Results\n",
    "\n",
    "# # Get means, stds and parameters for all tried combinations\n",
    "# means_test = pd.DataFrame(clf_r2.cv_results_['mean_test_score'])\n",
    "# stds_test = pd.DataFrame(clf_r2.cv_results_['std_test_score'])\n",
    "# params = clf_r2.cv_results_['params']\n",
    "\n",
    "# # Build a data frame with these values\n",
    "# results = pd.DataFrame(params)\n",
    "# results = pd.concat([results,means_test], axis=1)\n",
    "# results = pd.concat([results,stds_test],axis=1)\n",
    "# results.columns=['activation','hidden_layer_sizes','learning_rate','learning_rate_init','random_state','solver','mean_test','std_test'] \n",
    "# results = results.sort_values(by=['mean_test','std_test'], ascending=False)\n",
    "\n",
    "# # Get models\n",
    "# results.head(20) "
   ]
  },
  {
   "cell_type": "code",
   "execution_count": 84,
   "metadata": {},
   "outputs": [],
   "source": [
    "# # Define parameters of Grid Search 3\n",
    "# parameter_space = {\n",
    "#     'hidden_layer_sizes': [(4,10),(12,2),(2,12),(6,8),(8,6),(3,3,8),(8,3,3),(3,8,3),(4,4,4,2),(2,4,4,4),(4,2,4,4),(4,4,2,4)],\n",
    "#     'activation': ['tanh'],\n",
    "#     'solver': ['adam'],\n",
    "#     'learning_rate_init': [0.01,0.015,0.05],\n",
    "#     'random_state': [1,3],\n",
    "#     'learning_rate': ['adaptive','constant','invscaling']\n",
    "# }"
   ]
  },
  {
   "cell_type": "code",
   "execution_count": 85,
   "metadata": {},
   "outputs": [],
   "source": [
    "# # Define and fit Grid Search\n",
    "# clf_r3 = GridSearchCV(NN, parameter_space, cv=StratifiedKFold(n_splits=5, shuffle=True),verbose=1,n_jobs=4)\n",
    "# clf_r3.fit(X_train_selection,y_train)"
   ]
  },
  {
   "cell_type": "code",
   "execution_count": 86,
   "metadata": {},
   "outputs": [],
   "source": [
    "# # Check Results\n",
    "\n",
    "# # Get means, stds and parameters for all tried combinations\n",
    "# means_test = pd.DataFrame(clf_r3.cv_results_['mean_test_score'])\n",
    "# stds_test = pd.DataFrame(clf_r3.cv_results_['std_test_score'])\n",
    "# params = clf_r3.cv_results_['params']\n",
    "\n",
    "# # Build a data frame with these values\n",
    "# results = pd.DataFrame(params)\n",
    "# results = pd.concat([results,means_test], axis=1)\n",
    "# results = pd.concat([results,stds_test],axis=1)\n",
    "# results.columns=['activation','hidden_layer_sizes','learning_rate','learning_rate_init','random_state','solver','mean_test','std_test'] \n",
    "# results = results.sort_values(by=['mean_test','std_test'], ascending=False)\n",
    "\n",
    "# # Get models\n",
    "# results.head(20) "
   ]
  },
  {
   "cell_type": "markdown",
   "metadata": {},
   "source": [
    "<h2><font color='#1e91c7'>Neural Networks with Keras</font> </h2>"
   ]
  },
  {
   "cell_type": "markdown",
   "metadata": {},
   "source": [
    "<h3>Best Model</h3>"
   ]
  },
  {
   "cell_type": "code",
   "execution_count": 87,
   "metadata": {},
   "outputs": [],
   "source": [
    "# def create_baseline():\n",
    "#     # Create model\n",
    "#     model = Sequential()\n",
    "#     model.add(Dense(16, input_dim=len(X_final.columns), kernel_initializer='normal', activation='relu'))\n",
    "#     model.add(Dense(16, input_dim=len(X_final.columns), kernel_initializer='normal', activation='relu'))\n",
    "#     model.add(Dense(1, kernel_initializer='normal', activation='sigmoid'))\n",
    "#     # Compile model. We use the the logarithmic loss function, and the Adam gradient optimizer.\n",
    "#     model.compile(loss='binary_crossentropy', optimizer='adam', metrics=['accuracy'])\n",
    "#     return model\n",
    " \n",
    "\n",
    "# estimator = KerasClassifier(build_fn=create_baseline, epochs=100, batch_size=5, verbose=0)\n",
    "# kfold = StratifiedKFold(n_splits=10, shuffle=True)\n",
    "# results = cross_val_score(estimator, X_final, y_final, cv=kfold)\n",
    "# print(\"Baseline: %.2f%% (%.2f%%)\" % (results.mean()*100, results.std()*100))"
   ]
  },
  {
   "cell_type": "code",
   "execution_count": 88,
   "metadata": {},
   "outputs": [],
   "source": [
    "# # load dataset\n",
    "# # split into input (X) and output (Y) variables\n",
    "# X = X_final\n",
    "# Y = y_final\n",
    "# # encode class values as integers\n",
    "# encoded_Y = Y\n",
    "\n",
    "# # ----------------------------------  baseline model  -------------------------------------------\n",
    "# def create_baseline():\n",
    "#     # create model\n",
    "#     model = Sequential()\n",
    "#     model.add(Dense(60, input_dim=len(X_train_selection.columns), activation='relu'))\n",
    "#     model.add(Dense(1, activation='sigmoid'))\n",
    "#     # Compile model\n",
    "#     model.compile(loss='binary_crossentropy', optimizer='adam', metrics=['accuracy'])\n",
    "#     return model\n",
    "# # evaluate model with standardized dataset\n",
    "# estimator = KerasClassifier(build_fn=create_baseline, epochs=100, batch_size=5, verbose=0)\n",
    "# kfold = StratifiedKFold(n_splits=10, shuffle=True)\n",
    "# results = cross_val_score(estimator, X, encoded_Y, cv=kfold)\n",
    "# print(\"Baseline: %.2f%% (%.2f%%)\" % (results.mean()*100, results.std()*100))\n",
    "\n",
    "# # Binary Classification with Dataset:  Larger\n",
    "\n",
    "# # load dataset\n",
    "# # split into input (X) and output (Y) variables\n",
    "# X = X_final\n",
    "# Y = y_final\n",
    "# # encode class values as integers\n",
    "# encoded_Y = Y\n",
    "# # larger model\n",
    "# def create_larger():\n",
    "#     # create model\n",
    "#     model = Sequential()\n",
    "#     model.add(Dense(60, input_dim=len(X_train_selection.columns), activation='relu'))\n",
    "#     model.add(Dense(30, activation='relu'))\n",
    "#     model.add(Dense(1, activation='sigmoid'))\n",
    "#     # Compile model\n",
    "#     model.compile(loss='binary_crossentropy', optimizer='adam', metrics=['accuracy'])\n",
    "#     return model\n",
    "# estimators = []\n",
    "# estimators.append(('mlp', KerasClassifier(build_fn=create_larger, epochs=100, batch_size=5, verbose=0)))\n",
    "# pipeline = Pipeline(estimators)\n",
    "# kfold = StratifiedKFold(n_splits=10, shuffle=True)\n",
    "# results = cross_val_score(pipeline, X, encoded_Y, cv=kfold)\n",
    "# print(\"Larger: %.2f%% (%.2f%%)\" % (results.mean()*100, results.std()*100))"
   ]
  },
  {
   "cell_type": "code",
   "execution_count": 89,
   "metadata": {},
   "outputs": [],
   "source": [
    "# # Check scores\n",
    "# pipeline.fit(X_final, y_final)\n",
    "# print(pipeline.score(X_train_selection,y_train))\n",
    "# print(pipeline.score(X_val_selection, y_val))"
   ]
  },
  {
   "cell_type": "markdown",
   "metadata": {},
   "source": [
    "<h2><font color='#1e91c7'>DT Models</font> </h2>"
   ]
  },
  {
   "cell_type": "code",
   "execution_count": 90,
   "metadata": {},
   "outputs": [],
   "source": [
    "# def calculate_AUC(interval, x_train, x_test, y_train, y_test, parameter, max_depth = None):\n",
    "#     train_results = []\n",
    "#     test_results = []\n",
    "#     for value in interval:\n",
    "#         if (parameter == 'depth'):          \n",
    "#             dt = DecisionTreeClassifier(max_depth = value)\n",
    "#             dt.fit(x_train, y_train)\n",
    "#         elif (parameter == 'features'):  \n",
    "#             dt = DecisionTreeClassifier(max_features = value, max_depth = max_depth)\n",
    "#             dt.fit(x_train, y_train)\n",
    "#         elif (parameter == 'min_samples_split'):  \n",
    "#             dt = DecisionTreeClassifier(min_samples_split = value, max_depth = max_depth)\n",
    "#             dt.fit(x_train, y_train)\n",
    "#         elif (parameter == 'max_leaf_nodes'):  \n",
    "#             dt = DecisionTreeClassifier(max_leaf_nodes = value, max_depth = max_depth)\n",
    "#             dt.fit(x_train, y_train)\n",
    "#         elif (parameter == 'min_samples_leaf'):  \n",
    "#             dt = DecisionTreeClassifier(min_samples_leaf = value, max_depth = max_depth)\n",
    "#             dt.fit(x_train, y_train)\n",
    "#         train_pred = dt.predict(x_train)\n",
    "#         false_positive_rate, true_positive_rate, thresholds = roc_curve(y_train, train_pred)\n",
    "#         roc_auc = auc(false_positive_rate, true_positive_rate)\n",
    "#         # Add auc score to previous train results\n",
    "#         train_results.append(roc_auc)\n",
    "#         y_pred = dt.predict(x_test)\n",
    "#         false_positive_rate, true_positive_rate, thresholds = roc_curve(y_test, y_pred)\n",
    "#         roc_auc = auc(false_positive_rate, true_positive_rate)\n",
    "#         # Add auc score to previous test results\n",
    "#         test_results.append(roc_auc)\n",
    "#     value_train = train_results.index(max(train_results))\n",
    "#     value_test = test_results.index(max(test_results))\n",
    "#     print('The best train value is ',interval[value_train])\n",
    "#     print('The best test value is ',interval[value_test])\n",
    "\n",
    "#     import matplotlib.pyplot as plt\n",
    "#     from matplotlib.legend_handler import HandlerLine2D\n",
    "#     line1, = plt.plot(interval, train_results, 'b', label=\"Train AUC\")\n",
    "#     line2, = plt.plot(interval, test_results, 'r', label=\"Test AUC\")\n",
    "#     plt.legend(handler_map={line1: HandlerLine2D(numpoints=2)})\n",
    "#     plt.ylabel(\"AUC score\")\n",
    "#     plt.xlabel(str(parameter))\n",
    "#     plt.show()"
   ]
  },
  {
   "cell_type": "code",
   "execution_count": 91,
   "metadata": {},
   "outputs": [],
   "source": [
    "# max_depths = list(range(1,30))\n",
    "# calculate_AUC(max_depths, X_train_selection, X_val_selection, y_train, y_val, 'depth')"
   ]
  },
  {
   "cell_type": "code",
   "execution_count": 92,
   "metadata": {},
   "outputs": [],
   "source": [
    "# max_features = list(range(1,len(X_train_selection.columns)+1))\n",
    "# calculate_AUC(max_features, X_train_selection, X_val_selection, y_train, y_val,'features',7)"
   ]
  },
  {
   "cell_type": "code",
   "execution_count": 93,
   "metadata": {},
   "outputs": [],
   "source": [
    "# min_samples = list(range(2,200,10))\n",
    "# calculate_AUC(min_samples, X_train_selection, X_val_selection, y_train, y_val,'min_samples_split',7)"
   ]
  },
  {
   "cell_type": "code",
   "execution_count": 94,
   "metadata": {},
   "outputs": [],
   "source": [
    "# leaf_nodes = list(range(2,300,5))\n",
    "# calculate_AUC(leaf_nodes, X_train_selection, X_val_selection, y_train, y_val, 'max_leaf_nodes',7)"
   ]
  },
  {
   "cell_type": "code",
   "execution_count": 95,
   "metadata": {
    "scrolled": true
   },
   "outputs": [],
   "source": [
    "# min_samples_leaf = list(range(2,200,5))\n",
    "# calculate_AUC(min_samples_leaf, X_train_selection, X_val_selection, y_train, y_val, 'min_samples_leaf',7)"
   ]
  },
  {
   "cell_type": "markdown",
   "metadata": {},
   "source": [
    "**Try with default parameters**"
   ]
  },
  {
   "cell_type": "code",
   "execution_count": 96,
   "metadata": {},
   "outputs": [],
   "source": [
    "# # Define and fit model\n",
    "# dt_model_default = DecisionTreeClassifier()\n",
    "# dt_model_default.fit(X_train_selection, y_train)\n",
    "# dt_model_default.score(X_val_selection, y_val)"
   ]
  },
  {
   "cell_type": "markdown",
   "metadata": {},
   "source": [
    "**Try with best parameters**"
   ]
  },
  {
   "cell_type": "code",
   "execution_count": 97,
   "metadata": {},
   "outputs": [],
   "source": [
    "# # Define and fit model\n",
    "# dt_model_best = DecisionTreeClassifier(criterion='entropy', max_depth=7, max_features=7, max_leaf_nodes=None, min_samples_leaf=1,min_samples_split=2, splitter='random')\n",
    "# dt_model_best.fit(X_train_selection, y_train)\n",
    "# dt_model_best.score(X_val_selection, y_val)"
   ]
  },
  {
   "cell_type": "markdown",
   "metadata": {},
   "source": [
    "**Try with bagging**"
   ]
  },
  {
   "cell_type": "code",
   "execution_count": 98,
   "metadata": {},
   "outputs": [],
   "source": [
    "# # Define and fit model\n",
    "# bagging_dt = BaggingClassifier(base_estimator = DecisionTreeClassifier(), random_state = 5)\n",
    "# bagging_dt.fit(X = X_train_selection, y = y_train)\n",
    "\n",
    "# print(bagging_dt.score(X_train_selection, y_train))\n",
    "# print(bagging_dt.score(X_val_selection, y_val))"
   ]
  },
  {
   "cell_type": "code",
   "execution_count": 99,
   "metadata": {},
   "outputs": [],
   "source": [
    "# # Define and fit model\n",
    "# bagging_dt_best = BaggingClassifier(base_estimator=DecisionTreeClassifier(max_depth=7, max_features=4, min_samples_split=2),\n",
    "#                         n_estimators=100, random_state=0)\n",
    "# bagging_dt_best.fit(X_train_selection, y_train)\n",
    "# print(bagging_dt_best.score(X_train_selection, y_train))\n",
    "# print(bagging_dt_best.score(X_val_selection, y_val))"
   ]
  },
  {
   "cell_type": "markdown",
   "metadata": {},
   "source": [
    "**Grid Search**"
   ]
  },
  {
   "cell_type": "code",
   "execution_count": 100,
   "metadata": {},
   "outputs": [],
   "source": [
    "# # Define parameters for grid search\n",
    "# import random\n",
    "# dt_model = DecisionTreeClassifier()\n",
    "# params_dt={\n",
    "    \n",
    "#     \"splitter\": ['random','best'], \n",
    "#     \"max_depth\": [5,7,9,10,15,26,27], \n",
    "#     \"min_samples_split\": [2,10,75,125], \n",
    "#     \"min_samples_leaf\": [1,50,170,400], \n",
    "#     \"criterion\": ['gini', 'entropy'], \n",
    "#     \"max_leaf_nodes\":[None,100,177,217],\n",
    "#     \"max_features\": [random.randint(1, 9),'auto','sqrt','log2'],\n",
    "#     \"class_weight\": [None, 'balanced']\n",
    "#     }"
   ]
  },
  {
   "cell_type": "code",
   "execution_count": 101,
   "metadata": {},
   "outputs": [],
   "source": [
    "# # Define and fit grid search\n",
    "# Model_DT = GridSearchCV(dt_model, params_dt)\n",
    "# Model_DT.fit(X_train_selection,y_train)"
   ]
  },
  {
   "cell_type": "code",
   "execution_count": 102,
   "metadata": {},
   "outputs": [],
   "source": [
    "# # Check scores\n",
    "# print(Model_DT.score(X_train_selection, y_train))\n",
    "# print(Model_DT.score(X_val_selection, y_val))"
   ]
  },
  {
   "cell_type": "markdown",
   "metadata": {},
   "source": [
    "<h2><font color='#1e91c7'>SVM</font> </h2>"
   ]
  },
  {
   "cell_type": "markdown",
   "metadata": {},
   "source": [
    "**Try with default parameters**"
   ]
  },
  {
   "cell_type": "code",
   "execution_count": 103,
   "metadata": {},
   "outputs": [],
   "source": [
    "# # Define and fit model\n",
    "# svm_model_default = svm.SVC()\n",
    "# svm_model_default.fit(X_train_selection, y_train)\n",
    "\n",
    "# # Check scores\n",
    "# print(svm_model_default.score(X_train_selection, y_train))\n",
    "# print(svm_model_default.score(X_val_selection, y_val))"
   ]
  },
  {
   "cell_type": "markdown",
   "metadata": {},
   "source": [
    "**Try with best parameters**"
   ]
  },
  {
   "cell_type": "code",
   "execution_count": 104,
   "metadata": {},
   "outputs": [],
   "source": [
    "# # Define and fit model\n",
    "# svm_model_best = svm.SVC(C=3, break_ties=False, decision_function_shape='ovo', gamma='scale', kernel='rbf', probability=True, shrinking=True)\n",
    "# svm_model_best.fit(X_train_selection, y_train)\n",
    "# print(svm_model_default.score(X_train_selection, y_train))\n",
    "# print(svm_model_best.score(X_val_selection, y_val))"
   ]
  },
  {
   "cell_type": "markdown",
   "metadata": {},
   "source": [
    "**Grid Search**"
   ]
  },
  {
   "cell_type": "code",
   "execution_count": 105,
   "metadata": {},
   "outputs": [],
   "source": [
    "# # Define parameters for Grid Search\n",
    "# svm_model = svm.SVC()\n",
    "\n",
    "# params_svm={\n",
    "#          \"C\": [0.1, 1, 2 ,3], \n",
    "#          \"kernel\": ['linear', 'poly', 'rbf', 'sigmoid'],  #[sigmoid] presented worst results\n",
    "#          \"degree\": [3,5,10], \n",
    "#          \"gamma\": ['scale','auto'], \n",
    "#          #\"coef0\": [0,1,2], \n",
    "#          \"shrinking\": [True,False],\n",
    "#          #\"probability\": [True,False],\n",
    "#          #\"tol\": [1e-3],\n",
    "#          #\"cache_size\": [200,400],\n",
    "#          \"class_weight\": ['balanced', None],\n",
    "#          #\"verbose\": [True,False],\n",
    "#          \"max_iter\": [-1,200,300],\n",
    "#          \"decision_function_shape\": ['ovo', 'ovr'],\n",
    "#          \"break_ties\": [False]\n",
    "#         }"
   ]
  },
  {
   "cell_type": "code",
   "execution_count": 106,
   "metadata": {},
   "outputs": [],
   "source": [
    "# # Define and fit grid search\n",
    "# ModelSVM =  GridSearchCV(svm_model, params_svm, cv = StratifiedKFold(n_splits = 3, shuffle = True),verbose = 1,n_jobs = 4)\n",
    "# ModelSVM.fit(X_train_selection, y_train)\n",
    "\n",
    "# Best parameter set\n",
    "#print('------------------------------------------------------------------------------------------------------------------------')\n",
    "#print('Best parameters found:\\n', grid_search_selection.best_params_)\n",
    "#print('------------------------------------------------------------------------------------------------------------------------')\n",
    "\n",
    "# All results\n",
    "#means = grid_search_selection.cv_results_['mean_test_score']\n",
    "#stds = grid_search_selection.cv_results_['std_test_score']\n",
    "#for mean, std, params in zip(means, stds, grid_search_selection.cv_results_['params']):\n",
    "   # print(\"%0.3f (+/-%0.03f) for %r\" % (mean, std , params))"
   ]
  },
  {
   "cell_type": "code",
   "execution_count": 107,
   "metadata": {},
   "outputs": [],
   "source": [
    "# # Define and fit model\n",
    "# params_svm={'C': 3, \n",
    "#             'break_ties': False, \n",
    "#              \"class_weight\": {1:1.3,1:0.8},\n",
    "#             'decision_function_shape': 'ovo', \n",
    "#             'degree': 3, \n",
    "#             'gamma': 'auto', \n",
    "#             'kernel': 'rbf', \n",
    "#             'probability': True, \n",
    "#             'shrinking': True, \n",
    "#             'verbose': True}\n",
    "\n",
    "# tes_model = svm.SVC(**params_svm)\n",
    "# tes_model.fit(X_train_selection, y_train)"
   ]
  },
  {
   "cell_type": "code",
   "execution_count": 108,
   "metadata": {},
   "outputs": [],
   "source": [
    "# # Check scores\n",
    "# tes_model.score(X_train_selection, y_train)\n",
    "# tes_model.score(X_val_selection, y_val)"
   ]
  },
  {
   "cell_type": "markdown",
   "metadata": {},
   "source": [
    "<h2><font color='#1e91c7'>Random Forest Models</font> </h2>"
   ]
  },
  {
   "cell_type": "markdown",
   "metadata": {},
   "source": [
    "**Try with default parameters**"
   ]
  },
  {
   "cell_type": "code",
   "execution_count": 109,
   "metadata": {},
   "outputs": [],
   "source": [
    "# # Define and fit model\n",
    "# rf_model_default = RandomForestClassifier()\n",
    "# rf_model_default.fit(X_train_selection, y_train)\n",
    "\n",
    "# # Check scores\n",
    "# print(rf_model_default.score(X_train_selection, y_train))\n",
    "# print(rf_model_default.score(X_val_selection, y_val))"
   ]
  },
  {
   "cell_type": "markdown",
   "metadata": {},
   "source": [
    "**Try with best parameters**"
   ]
  },
  {
   "cell_type": "code",
   "execution_count": 110,
   "metadata": {},
   "outputs": [],
   "source": [
    "# # Define and fit model\n",
    "# RFM_model_best = RandomForestClassifier(random_state = 2,\n",
    "#                                   n_estimators = 200,\n",
    "#                                   max_depth = 5,\n",
    "#                                   min_samples_split = 5,  min_samples_leaf = 2)\n",
    "# RFM_model_best.fit(X_train_selection, y_train)\n",
    "\n",
    "# # Check scores\n",
    "# print(RFM_model_best.score(X_train_selection, y_train))\n",
    "# print(RFM_model_best.score(X_val_selection, y_val))"
   ]
  },
  {
   "cell_type": "code",
   "execution_count": 111,
   "metadata": {},
   "outputs": [],
   "source": [
    "# # Dedine parameters for grid search\n",
    "# RFM = RandomForestClassifier()\n",
    "# # Define parameters of Grid Search\n",
    "# parameter_space = {\n",
    "#     'n_estimators':[10,20] ,\n",
    "#     'criterion':['gini','entropy'],\n",
    "#     'max_depth': [5,7,9,10], \n",
    "#     'min_samples_split': [2,10,75],\n",
    "#     'min_samples_leaf': [1,50,170],\n",
    "#     'max_features': [7,8,9,'auto','sqrt','log2'],\n",
    "#     'max_leaf_nodes':[None,100,177,217],\n",
    "#     'random_state':[1,2,3,4],\n",
    "#     'class_weight': ['balanced','balanced_subsample']\n",
    "# }"
   ]
  },
  {
   "cell_type": "code",
   "execution_count": 112,
   "metadata": {},
   "outputs": [],
   "source": [
    "# # Define and fit model\n",
    "# clf_r4 = GridSearchCV(RFM, parameter_space, cv=StratifiedKFold(n_splits=5, shuffle=True),verbose=1,n_jobs=4)\n",
    "# clf_r4.fit(X_train_selection,y_train)"
   ]
  },
  {
   "cell_type": "markdown",
   "metadata": {},
   "source": [
    " <h2><font color='#1e91c7'>Logistic Regression</font> </h2>"
   ]
  },
  {
   "cell_type": "markdown",
   "metadata": {},
   "source": [
    "**Try with default parameters**"
   ]
  },
  {
   "cell_type": "code",
   "execution_count": 113,
   "metadata": {},
   "outputs": [],
   "source": [
    "# # Define and fit model\n",
    "# LG_model_default = LogisticRegression()\n",
    "# LG_model_default.fit(X_train,y_train)\n",
    "\n",
    "# # Check scores\n",
    "# print(LG_model_default.score(X_train,y_train))\n",
    "# print(LG_model_default.score(X_val,y_val))\n",
    "# # Low overfitting"
   ]
  },
  {
   "cell_type": "markdown",
   "metadata": {},
   "source": [
    "**Try with best parameters**"
   ]
  },
  {
   "cell_type": "code",
   "execution_count": 114,
   "metadata": {},
   "outputs": [],
   "source": [
    "# # Best parameters\n",
    "# LG_model_best = LogisticRegression()\n",
    "# LG_model_best.fit(X_train_selection,y_train)\n",
    "\n",
    "# # Check scores\n",
    "# print(LG_model_best.score(X_train_selection,y_train))\n",
    "# print(LG_model_best.score(X_val_selection,y_val))"
   ]
  },
  {
   "cell_type": "markdown",
   "metadata": {},
   "source": [
    "**GridSearchCV**"
   ]
  },
  {
   "cell_type": "code",
   "execution_count": 115,
   "metadata": {},
   "outputs": [],
   "source": [
    "# # Define parameters for grid search\n",
    "# LG = LogisticRegression()\n",
    "\n",
    "\n",
    "# parameter_space_lr = {\n",
    "#     'penalty' : ['l1', 'l2', 'elasticnet', 'none'],\n",
    "#     'C' : np.logspace(-4, 5, 15),\n",
    "#     'class_weight':['balanced'],\n",
    "#     'random_state': [1,3,5],\n",
    "#     'solver' : ['newton-cg', 'lbfgs', 'liblinear', 'sag', 'saga'],\n",
    "#     'multi_class' : ['auto', 'ovr', 'multinomial'],\n",
    "    \n",
    "# }"
   ]
  },
  {
   "cell_type": "code",
   "execution_count": 116,
   "metadata": {},
   "outputs": [],
   "source": [
    "# # Define and fit grid search\n",
    "# ModelLR = GridSearchCV(LG, parameter_space_lr)\n",
    "# ModelLR.fit(X_train_selection,y_train)"
   ]
  },
  {
   "cell_type": "markdown",
   "metadata": {},
   "source": [
    " <h2><font color='#1e91c7'>Naive Bayes</font> </h2>"
   ]
  },
  {
   "cell_type": "markdown",
   "metadata": {},
   "source": [
    "**Try with default parameters**"
   ]
  },
  {
   "cell_type": "code",
   "execution_count": 117,
   "metadata": {},
   "outputs": [],
   "source": [
    "# from sklearn.naive_bayes import GaussianNB\n",
    "# # Define and fit model\n",
    "# NB_model_default = GaussianNB()\n",
    "# NB_model_default.fit(X_train_selection,y_train)\n",
    "\n",
    "# # Check scores\n",
    "# print(NB_model_default.score(X_train_selection,y_train))\n",
    "# print(NB_model_default.score(X_val_selection,y_val))"
   ]
  },
  {
   "cell_type": "markdown",
   "metadata": {},
   "source": [
    "**Try with best parameters**"
   ]
  },
  {
   "cell_type": "code",
   "execution_count": 118,
   "metadata": {},
   "outputs": [],
   "source": [
    "# # Define and fit model\n",
    "# NB_model_default = GaussianNB()\n",
    "# NB_model_default.fit(X_train_selection,y_train)\n",
    "\n",
    "# # Check scores\n",
    "# print(NB_model_default.score(X_train_selection,y_train))\n",
    "# print(NB_model_default.score(X_val_selection,y_val))"
   ]
  },
  {
   "cell_type": "markdown",
   "metadata": {},
   "source": [
    " <h2><font color='#1e91c7'>XGBClassifier</font> </h2>"
   ]
  },
  {
   "cell_type": "markdown",
   "metadata": {},
   "source": [
    "**Try with default parameters**"
   ]
  },
  {
   "cell_type": "code",
   "execution_count": 119,
   "metadata": {},
   "outputs": [],
   "source": [
    "# # pip install xgboost\n",
    "# # Default Params\n",
    "# xgb_model_default = XGBClassifier()\n",
    "# xgb_model_default.fit(X_train_selection,y_train)\n",
    "\n",
    "# # Check scores\n",
    "# print(xgb_model_default.score(X_train_selection,y_train))\n",
    "# print(xgb_model_default.score(X_val_selection,y_val))"
   ]
  },
  {
   "cell_type": "markdown",
   "metadata": {},
   "source": [
    "**Try with best parameters**"
   ]
  },
  {
   "cell_type": "code",
   "execution_count": 120,
   "metadata": {},
   "outputs": [],
   "source": [
    "# # Define model\n",
    "# XB = XGBClassifier()\n",
    "\n",
    "# # Define parameters of Grid Search\n",
    "# parameter_space = {\n",
    "#     'booster':['gbtree', 'gblinear', 'dart'],\n",
    "#     'eta':[0.01,0.1,0.2],\n",
    "#     'gamma':[0,1,2],\n",
    "#     'max_depth':[3,6,7,8,10],\n",
    "#     'subsample':[0.8,1],\n",
    "#     'lambda':[1,2],\n",
    "#     'alpha':[1,2],\n",
    "#     'grow_policy':['depthwise','lossguide'],\n",
    "#     'max_leaves':[0,10,50],\n",
    "#     'predictor':['auto','cpu_predictor','gpu_predictor'],\n",
    "#     'objective':['binary:logistic']   \n",
    "# }"
   ]
  },
  {
   "cell_type": "code",
   "execution_count": 121,
   "metadata": {},
   "outputs": [],
   "source": [
    "# # Define and fit grid search \n",
    "# clf_r5 = GridSearchCV(XB, parameter_space, cv=StratifiedKFold(n_splits=5, shuffle=True),verbose=1,n_jobs=-1)\n",
    "# clf_r5.fit(X_train_selection,y_train)\n",
    "# clf_r5.best_params_"
   ]
  },
  {
   "cell_type": "code",
   "execution_count": 122,
   "metadata": {},
   "outputs": [],
   "source": [
    "# # Define and fit model\n",
    "# XB_best = XGBClassifier(booster ='gbtree',eta = 0.1, gamma = 1, grow_policy ='depthwise',\n",
    "#                         max_depth = 3, max_leaves = 0, objective = 'binary:logistic',\n",
    "#                         predictor = 'auto',subsample =1)\n",
    "# XB_best.fit(X_train_selection,y_train)\n",
    "\n",
    "# # Check scores\n",
    "# print(XB_best.score(X_train_selection,y_train))\n",
    "# print(XB_best.score(X_val_selection,y_val))"
   ]
  },
  {
   "cell_type": "markdown",
   "metadata": {},
   "source": [
    " <h2><font color='#1e91c7'>Ensemblers</font> </h2>"
   ]
  },
  {
   "cell_type": "markdown",
   "metadata": {},
   "source": [
    "**Bagging**"
   ]
  },
  {
   "cell_type": "code",
   "execution_count": 123,
   "metadata": {},
   "outputs": [],
   "source": [
    "# # Define and fit model\n",
    "# bagging_best_models = BaggingClassifier(base_estimator = DecisionTreeClassifier(), random_state = 5)\n",
    "# bagging_best_models.fit(X = X_train_selection, y = y_train)\n",
    "\n",
    "# # Check scores\n",
    "# print(bagging_best_models.score(X_train_selection, y_train))\n",
    "# print(bagging_best_models.score(X_val_selection, y_val))"
   ]
  },
  {
   "cell_type": "markdown",
   "metadata": {},
   "source": [
    "**Stacking**"
   ]
  },
  {
   "cell_type": "code",
   "execution_count": 124,
   "metadata": {
    "scrolled": true
   },
   "outputs": [],
   "source": [
    "# from matplotlib import pyplot\n",
    "# def get_stacking():\n",
    "#     # define the base models\n",
    "#     level0 = list()\n",
    "#     level0.append(('xgb', XGBClassifier(alpha =2 ,booster ='gbtree',eta = 0.2, gamma = 0, grow_policy ='depthwise',\n",
    "#                         max_depth = 6,max_leaves = 0, objective = 'binary:logistic',\n",
    "#                         predictor = 'auto',subsample =1)))\n",
    "#     level0.append(('svc', svm.SVC(C=3,\n",
    "#             break_ties= False,\n",
    "#              class_weight= None,\n",
    "#             decision_function_shape= 'ovo',\n",
    "#             degree= 2,\n",
    "#             gamma= 'auto',\n",
    "#             kernel= 'rbf',\n",
    "#             probability= True,\n",
    "#             shrinking= True,\n",
    "#             verbose= True)))\n",
    "#     level0.append(('knn', KNeighborsClassifier(\n",
    "#         algorithm='brute',leaf_size=5,metric='mahalanobis',n_neighbors = 5,p=2,weights='uniform')))\n",
    "#     # define meta learner model\n",
    "#     level1 = LogisticRegression()\n",
    "#     # define the stacking ensemble\n",
    "#     model = StackingClassifier(estimators=level0, final_estimator=level1, cv=5)\n",
    "#     return model\n",
    "# def get_models():\n",
    "#     models = dict()\n",
    "#     models['svc'] = SVC(C=3,\n",
    "#             break_ties= False,\n",
    "#              class_weight= None,\n",
    "#             decision_function_shape= 'ovo',\n",
    "#             degree= 2,\n",
    "#             gamma= 'auto',\n",
    "#             kernel= 'rbf',\n",
    "#             probability= True,\n",
    "#             shrinking= True,\n",
    "#             verbose= True)\n",
    "#     models['xgb'] = XGBClassifier(alpha =2 ,booster ='gbtree',eta = 0.2, gamma = 0, grow_policy ='depthwise',\n",
    "#                         max_depth = 6,max_leaves = 0, objective = 'binary:logistic',\n",
    "#                         predictor = 'auto',subsample =1)\n",
    "#     models['knn'] = KNeighborsClassifier(\n",
    "#                         algorithm='brute',leaf_size=5,metric='mahalanobis',n_neighbors = 5,p=2,weights='uniform')\n",
    "#     models['stacking'] = get_stacking()\n",
    "#     return models\n",
    "\n",
    "# # compare standalone models for binary classification\n",
    "# def evaluate_model(model):\n",
    "#     cv = RepeatedStratifiedKFold(n_splits=10, n_repeats=3, random_state=1)\n",
    "#     scores = cross_val_score(model, X_train_selection, y_train, scoring='accuracy', cv=cv, n_jobs=-1, error_score='raise')\n",
    "#     return scores\n",
    "\n",
    " \n",
    "\n",
    "# # get the models to evaluate\n",
    "# models = get_models()\n",
    "# # evaluate the models and store results\n",
    "# results, names = list(), list()\n",
    "# for name, model in models.items():\n",
    "#     scores = evaluate_model(model)\n",
    "#     results.append(scores)\n",
    "#     names.append(name)\n",
    "#     print('>%s %.3f (%.3f)' % (name, mean(scores), std(scores)))\n",
    "# # plot model performance for comparison\n",
    "# pyplot.boxplot(results, labels=names, showmeans=True)\n",
    "# pyplot.show()"
   ]
  },
  {
   "cell_type": "code",
   "execution_count": 125,
   "metadata": {},
   "outputs": [],
   "source": [
    "# from sklearn.pipeline import Pipeline\n",
    "# from sklearn.preprocessing import MinMaxScaler\n",
    "# from sklearn.ensemble import StackingClassifier\n",
    "# my_labels = {0:'low', 1:'medium', 2:'high'}\n",
    "# my_labels\n",
    "# level0 = list()\n",
    "\n",
    " \n",
    "\n",
    "# level0.append(('xgb', XGBClassifier(alpha =2 ,booster ='gbtree',eta = 0.2, gamma = 0, grow_policy ='depthwise',\n",
    "#                         max_depth = 6,max_leaves = 0, objective = 'binary:logistic',\n",
    "#                         predictor = 'auto',subsample =1)))\n",
    "# level0.append(('svc', svm.SVC(C=3,\n",
    "#             break_ties= False,\n",
    "#              class_weight= None,\n",
    "#             decision_function_shape= 'ovo',\n",
    "#             degree= 2,\n",
    "#             gamma= 'auto',\n",
    "#             kernel= 'rbf',\n",
    "#             probability= True,\n",
    "#             shrinking= True,\n",
    "#             verbose= True)))\n",
    "# level0.append(('knn', KNeighborsClassifier(\n",
    "#         algorithm='brute',leaf_size=5,metric='mahalanobis',n_neighbors = 5,p=2,weights='uniform')))\n",
    "# # define meta learner model\n",
    "# level1 = LogisticRegression()\n",
    "# # define the stacking ensemble\n",
    "# model = StackingClassifier(estimators=level0, final_estimator=level1, cv=5)\n",
    "# # fit the model on all available data\n",
    "# model.fit(X_final, y_final)\n",
    "# # make a prediction for one example"
   ]
  },
  {
   "cell_type": "markdown",
   "metadata": {},
   "source": [
    "<h3>Best Model</h3>\n",
    "<br>\n",
    "Our model has 3 hidden layers plus the input columns that is the first layer with 7 nodes (correspond to the dataframe columns). The output layer contains a single neuron in order to make predictions. It uses the sigmoid activation function in order to produce a probability output in the range of 0 to 1 that can easily and automatically be converted to crisp class values (0 and 1).\n",
    "Finally, we are using the logarithmic loss function (binary_crossentropy) during training, after some search on the internet we think this is preferred loss function for binary classification problems. The model also uses the efficient Adam optimization algorithm for gradient descent and accuracy metrics are collected to test the performance of the model.\n",
    "Neural networks of Keras use randomness by design to ensure they effectively learn the function that is more approximated for the problem. Although, we have searched how to do set a random state do get reproducible results with Keras, unfortunately, it was not possible due to the complications and limitations of tensorFlow library.\n",
    "In this way, our Keras Neural network algorithm is stochastic."
   ]
  },
  {
   "cell_type": "code",
   "execution_count": 126,
   "metadata": {},
   "outputs": [],
   "source": [
    "# Get final data set by concatenating train and validation sets in order to have more data to train the model\n",
    "X_final = pd.concat([X_train_selection, X_val_selection], axis=0)\n",
    "y_final = pd.concat([y_train, y_val], axis=0)"
   ]
  },
  {
   "cell_type": "code",
   "execution_count": 127,
   "metadata": {},
   "outputs": [
    {
     "name": "stdout",
     "output_type": "stream",
     "text": [
      "Baseline: 82.24% (3.88%)\n"
     ]
    }
   ],
   "source": [
    "# Best Model configuration\n",
    "def create_model():\n",
    "    # create model\n",
    "    model = Sequential()\n",
    "    model.add(Dense(16, input_dim=len(X_final.columns), kernel_initializer='normal', activation='relu'))\n",
    "    model.add(Dense(16, activation='relu'))\n",
    "    model.add(Dense(1, activation='sigmoid'))\n",
    "    # Compile model. We use the the logarithmic loss function, and the Adam gradient optimizer.\n",
    "    model.compile(loss='binary_crossentropy', optimizer='adam', metrics=['accuracy'])\n",
    "    return model\n",
    "estimator = KerasClassifier(build_fn=create_model, epochs=100, batch_size=5, verbose=0)\n",
    "kfold = StratifiedKFold(n_splits=10, shuffle=True)\n",
    "results = cross_val_score(estimator, X_final, y_final, cv=kfold)\n",
    "print(\"Baseline: %.2f%% (%.2f%%)\" % (results.mean()*100, results.std()*100))"
   ]
  },
  {
   "cell_type": "markdown",
   "metadata": {},
   "source": [
    "<h1>Predictions"
   ]
  },
  {
   "cell_type": "code",
   "execution_count": 128,
   "metadata": {},
   "outputs": [
    {
     "name": "stdout",
     "output_type": "stream",
     "text": [
      "1 269 | 0 131\n"
     ]
    }
   ],
   "source": [
    "# Fit best model\n",
    "estimator.fit(X_final,y_final)\n",
    "\n",
    "# Get predictions\n",
    "predictions = estimator.predict(X_test_selection)\n",
    "predictions = [list(dftest.ID), predictions]\n",
    "predictions = pd.DataFrame(predictions)\n",
    "predictions = predictions.transpose().rename(columns={0 : \"Patient_ID\", 1: \"Deceased\"})\n",
    "predictions.Deceased = predictions.apply(lambda row: row.Deceased[0], axis=1)\n",
    "\n",
    "# Get number of individuals by Deceased class\n",
    "print('1', len(predictions[predictions['Deceased']==1]), '|', '0', len(predictions[predictions['Deceased']==0]))\n",
    "\n",
    "# Export csv for submission\n",
    "predictions.to_csv(r'group20_final_2.csv', sep = ',', index = False, header=True)"
   ]
  },
  {
   "cell_type": "markdown",
   "metadata": {},
   "source": [
    "# <font color='#E8800A'>Conclusion</font> <a class=\"anchor\" id=\"fifth-bullet\"></a>\n",
    "  [Back to index](#menu)"
   ]
  },
  {
   "cell_type": "markdown",
   "metadata": {},
   "source": [
    "Throughout this project, we were challenged to put into practice what we learned through the Machine Learning course. The aim of this project was to create a model and achieve the best accuracy possible in a problem of binary classification.\n",
    "In order to obtain our final model, we have tried several approaches and different combinations of parameters for various models. Our best model consisted of a Neural Network using the keras library, and it has achieved an accuracy score of **0.85833** on public leaderboard of kaggle.\n",
    "This project helped us to have a bigger perspective on the applicability of Machine Learning in real-life problems, and how difficult it is to deal with day-to-day data."
   ]
  }
 ],
 "metadata": {
  "kernelspec": {
   "display_name": "Python 3 (ipykernel)",
   "language": "python",
   "name": "python3"
  },
  "language_info": {
   "codemirror_mode": {
    "name": "ipython",
    "version": 3
   },
   "file_extension": ".py",
   "mimetype": "text/x-python",
   "name": "python",
   "nbconvert_exporter": "python",
   "pygments_lexer": "ipython3",
   "version": "3.10.9"
  }
 },
 "nbformat": 4,
 "nbformat_minor": 2
}
