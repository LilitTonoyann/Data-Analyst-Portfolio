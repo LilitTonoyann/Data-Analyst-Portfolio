{
 "cells": [
  {
   "cell_type": "markdown",
   "id": "a5752803",
   "metadata": {},
   "source": [
    "# Customer Segmentation & Campaign Targeting (Bank Marketing Dataset)\n",
    "\n",
    "## Objective\n",
    "\n",
    "The goal of this project is to:\n",
    "- Segment customers based on demographic and behavioral traits\n",
    "- Simulate campaign targeting\n",
    "- Design and evaluate A/B tests to improve customer retention and conversion\n"
   ]
  },
  {
   "cell_type": "markdown",
   "id": "17303a3f",
   "metadata": {},
   "source": [
    "#### Note: \n",
    "Due to confidentiality agreements, I cannot share actual data or full workflows from my professional projects.This example represents a simplified version of one component from a real segmentation and targeting project I worked on. It demonstrates the typical workflow and methodology used in production — including customer segmentation, targeting logic,  and test/control evaluation.The dataset and code here are used  to show the types of problems I solve and the approach I take, not the actual results or data from company systems.  "
   ]
  },
  {
   "cell_type": "code",
   "execution_count": 1,
   "id": "2a0da380",
   "metadata": {},
   "outputs": [],
   "source": [
    "#impots \n",
    "\n",
    "import pandas as pd\n",
    "import matplotlib.pyplot as plt\n",
    "import seaborn as sns\n",
    "from sklearn.preprocessing import StandardScaler\n",
    "import numpy as np"
   ]
  },
  {
   "cell_type": "code",
   "execution_count": 2,
   "id": "37481646",
   "metadata": {
    "scrolled": true
   },
   "outputs": [
    {
     "name": "stdout",
     "output_type": "stream",
     "text": [
      "Shape: (11162, 17)\n"
     ]
    },
    {
     "data": {
      "text/html": [
       "<div>\n",
       "<style scoped>\n",
       "    .dataframe tbody tr th:only-of-type {\n",
       "        vertical-align: middle;\n",
       "    }\n",
       "\n",
       "    .dataframe tbody tr th {\n",
       "        vertical-align: top;\n",
       "    }\n",
       "\n",
       "    .dataframe thead th {\n",
       "        text-align: right;\n",
       "    }\n",
       "</style>\n",
       "<table border=\"1\" class=\"dataframe\">\n",
       "  <thead>\n",
       "    <tr style=\"text-align: right;\">\n",
       "      <th></th>\n",
       "      <th>age</th>\n",
       "      <th>job</th>\n",
       "      <th>marital</th>\n",
       "      <th>education</th>\n",
       "      <th>default</th>\n",
       "      <th>balance</th>\n",
       "      <th>housing</th>\n",
       "      <th>loan</th>\n",
       "      <th>contact</th>\n",
       "      <th>day</th>\n",
       "      <th>month</th>\n",
       "      <th>duration</th>\n",
       "      <th>campaign</th>\n",
       "      <th>pdays</th>\n",
       "      <th>previous</th>\n",
       "      <th>poutcome</th>\n",
       "      <th>deposit</th>\n",
       "    </tr>\n",
       "  </thead>\n",
       "  <tbody>\n",
       "    <tr>\n",
       "      <th>0</th>\n",
       "      <td>59</td>\n",
       "      <td>admin.</td>\n",
       "      <td>married</td>\n",
       "      <td>secondary</td>\n",
       "      <td>no</td>\n",
       "      <td>2343</td>\n",
       "      <td>yes</td>\n",
       "      <td>no</td>\n",
       "      <td>unknown</td>\n",
       "      <td>5</td>\n",
       "      <td>may</td>\n",
       "      <td>1042</td>\n",
       "      <td>1</td>\n",
       "      <td>-1</td>\n",
       "      <td>0</td>\n",
       "      <td>unknown</td>\n",
       "      <td>yes</td>\n",
       "    </tr>\n",
       "    <tr>\n",
       "      <th>1</th>\n",
       "      <td>56</td>\n",
       "      <td>admin.</td>\n",
       "      <td>married</td>\n",
       "      <td>secondary</td>\n",
       "      <td>no</td>\n",
       "      <td>45</td>\n",
       "      <td>no</td>\n",
       "      <td>no</td>\n",
       "      <td>unknown</td>\n",
       "      <td>5</td>\n",
       "      <td>may</td>\n",
       "      <td>1467</td>\n",
       "      <td>1</td>\n",
       "      <td>-1</td>\n",
       "      <td>0</td>\n",
       "      <td>unknown</td>\n",
       "      <td>yes</td>\n",
       "    </tr>\n",
       "    <tr>\n",
       "      <th>2</th>\n",
       "      <td>41</td>\n",
       "      <td>technician</td>\n",
       "      <td>married</td>\n",
       "      <td>secondary</td>\n",
       "      <td>no</td>\n",
       "      <td>1270</td>\n",
       "      <td>yes</td>\n",
       "      <td>no</td>\n",
       "      <td>unknown</td>\n",
       "      <td>5</td>\n",
       "      <td>may</td>\n",
       "      <td>1389</td>\n",
       "      <td>1</td>\n",
       "      <td>-1</td>\n",
       "      <td>0</td>\n",
       "      <td>unknown</td>\n",
       "      <td>yes</td>\n",
       "    </tr>\n",
       "    <tr>\n",
       "      <th>3</th>\n",
       "      <td>55</td>\n",
       "      <td>services</td>\n",
       "      <td>married</td>\n",
       "      <td>secondary</td>\n",
       "      <td>no</td>\n",
       "      <td>2476</td>\n",
       "      <td>yes</td>\n",
       "      <td>no</td>\n",
       "      <td>unknown</td>\n",
       "      <td>5</td>\n",
       "      <td>may</td>\n",
       "      <td>579</td>\n",
       "      <td>1</td>\n",
       "      <td>-1</td>\n",
       "      <td>0</td>\n",
       "      <td>unknown</td>\n",
       "      <td>yes</td>\n",
       "    </tr>\n",
       "    <tr>\n",
       "      <th>4</th>\n",
       "      <td>54</td>\n",
       "      <td>admin.</td>\n",
       "      <td>married</td>\n",
       "      <td>tertiary</td>\n",
       "      <td>no</td>\n",
       "      <td>184</td>\n",
       "      <td>no</td>\n",
       "      <td>no</td>\n",
       "      <td>unknown</td>\n",
       "      <td>5</td>\n",
       "      <td>may</td>\n",
       "      <td>673</td>\n",
       "      <td>2</td>\n",
       "      <td>-1</td>\n",
       "      <td>0</td>\n",
       "      <td>unknown</td>\n",
       "      <td>yes</td>\n",
       "    </tr>\n",
       "  </tbody>\n",
       "</table>\n",
       "</div>"
      ],
      "text/plain": [
       "   age         job  marital  education default  balance housing loan  contact  \\\n",
       "0   59      admin.  married  secondary      no     2343     yes   no  unknown   \n",
       "1   56      admin.  married  secondary      no       45      no   no  unknown   \n",
       "2   41  technician  married  secondary      no     1270     yes   no  unknown   \n",
       "3   55    services  married  secondary      no     2476     yes   no  unknown   \n",
       "4   54      admin.  married   tertiary      no      184      no   no  unknown   \n",
       "\n",
       "   day month  duration  campaign  pdays  previous poutcome deposit  \n",
       "0    5   may      1042         1     -1         0  unknown     yes  \n",
       "1    5   may      1467         1     -1         0  unknown     yes  \n",
       "2    5   may      1389         1     -1         0  unknown     yes  \n",
       "3    5   may       579         1     -1         0  unknown     yes  \n",
       "4    5   may       673         2     -1         0  unknown     yes  "
      ]
     },
     "execution_count": 2,
     "metadata": {},
     "output_type": "execute_result"
    }
   ],
   "source": [
    "# getting the data\n",
    "df = pd.read_csv(\"bank.csv\") \n",
    "\n",
    "\n",
    "print(\"Shape:\", df.shape)\n",
    "df.head()\n"
   ]
  },
  {
   "cell_type": "markdown",
   "id": "ea2ca089",
   "metadata": {},
   "source": [
    "### EDA"
   ]
  },
  {
   "cell_type": "code",
   "execution_count": 3,
   "id": "c30a2af1",
   "metadata": {},
   "outputs": [
    {
     "data": {
      "text/plain": [
       "no     0.52616\n",
       "yes    0.47384\n",
       "Name: deposit, dtype: float64"
      ]
     },
     "execution_count": 3,
     "metadata": {},
     "output_type": "execute_result"
    }
   ],
   "source": [
    "# Check balance of target variable\n",
    "df['deposit'].value_counts(normalize=True)\n"
   ]
  },
  {
   "cell_type": "code",
   "execution_count": 4,
   "id": "33ac447c",
   "metadata": {},
   "outputs": [
    {
     "data": {
      "text/plain": [
       "age          0\n",
       "job          0\n",
       "marital      0\n",
       "education    0\n",
       "default      0\n",
       "balance      0\n",
       "housing      0\n",
       "loan         0\n",
       "contact      0\n",
       "day          0\n",
       "month        0\n",
       "duration     0\n",
       "campaign     0\n",
       "pdays        0\n",
       "previous     0\n",
       "poutcome     0\n",
       "deposit      0\n",
       "dtype: int64"
      ]
     },
     "execution_count": 4,
     "metadata": {},
     "output_type": "execute_result"
    }
   ],
   "source": [
    "# Check nulls\n",
    "df.isnull().sum()"
   ]
  },
  {
   "cell_type": "code",
   "execution_count": 5,
   "id": "e2bab6a6",
   "metadata": {},
   "outputs": [
    {
     "data": {
      "text/plain": [
       "age            76\n",
       "job            12\n",
       "marital         3\n",
       "education       4\n",
       "default         2\n",
       "balance      3805\n",
       "housing         2\n",
       "loan            2\n",
       "contact         3\n",
       "day            31\n",
       "month          12\n",
       "duration     1428\n",
       "campaign       36\n",
       "pdays         472\n",
       "previous       34\n",
       "poutcome        4\n",
       "deposit         2\n",
       "dtype: int64"
      ]
     },
     "execution_count": 5,
     "metadata": {},
     "output_type": "execute_result"
    }
   ],
   "source": [
    "# Check unique values\n",
    "df.nunique()"
   ]
  },
  {
   "cell_type": "code",
   "execution_count": 6,
   "id": "fe4f361d",
   "metadata": {},
   "outputs": [],
   "source": [
    "data = df.copy()"
   ]
  },
  {
   "cell_type": "markdown",
   "id": "3456b9d3",
   "metadata": {},
   "source": [
    "###  Data Preparation"
   ]
  },
  {
   "cell_type": "code",
   "execution_count": 7,
   "id": "85de29a3",
   "metadata": {},
   "outputs": [
    {
     "name": "stdout",
     "output_type": "stream",
     "text": [
      "['age', 'job', 'marital', 'education', 'default', 'balance', 'housing', 'loan', 'contact', 'day', 'month', 'duration', 'campaign', 'pdays', 'previous', 'poutcome', 'deposit']\n"
     ]
    }
   ],
   "source": [
    "print(data.columns.tolist())\n"
   ]
  },
  {
   "cell_type": "code",
   "execution_count": 8,
   "id": "5766474c",
   "metadata": {},
   "outputs": [],
   "source": [
    "# Standardize column names\n",
    "data.columns = data.columns.str.strip().str.lower()\n",
    "\n"
   ]
  },
  {
   "cell_type": "code",
   "execution_count": 9,
   "id": "ff3384de",
   "metadata": {},
   "outputs": [],
   "source": [
    "# Replace 'unknown' categorical columns\n",
    "for col in ['job', 'marital', 'education', 'contact', 'poutcome']:\n",
    "    data[col] = data[col].replace('unknown', pd.NA)\n",
    "\n"
   ]
  },
  {
   "cell_type": "code",
   "execution_count": 10,
   "id": "00453d17",
   "metadata": {},
   "outputs": [],
   "source": [
    "# Drop rows with any NA \n",
    "data.dropna(inplace=True)\n",
    "\n"
   ]
  },
  {
   "cell_type": "code",
   "execution_count": 11,
   "id": "fd8c69ba",
   "metadata": {},
   "outputs": [],
   "source": [
    "\n",
    "binary_map = {'yes': 1, 'no': 0}\n",
    "for col in ['default', 'housing', 'loan', 'deposit']:\n",
    "    data[col] = data[col].map(binary_map)\n",
    "\n",
    "# One-hot encode other categorical columns\n",
    "categorical = ['job', 'marital', 'education', 'contact', 'poutcome']\n",
    "data = pd.get_dummies(data, columns=categorical, drop_first=True)"
   ]
  },
  {
   "cell_type": "code",
   "execution_count": 12,
   "id": "3676770a",
   "metadata": {},
   "outputs": [],
   "source": [
    "# Features to use for clustering\n",
    "features = ['age', 'balance', 'duration', 'campaign', 'previous'] + [col for col in data.columns if col.startswith(tuple(categorical))]\n",
    "X = data[features]"
   ]
  },
  {
   "cell_type": "code",
   "execution_count": 13,
   "id": "9df2e88c",
   "metadata": {},
   "outputs": [],
   "source": [
    "\n",
    "# Scale features\n",
    "scaler = StandardScaler()\n",
    "X_scaled = scaler.fit_transform(X)"
   ]
  },
  {
   "cell_type": "markdown",
   "id": "94561cbc",
   "metadata": {},
   "source": [
    "### Clustering"
   ]
  },
  {
   "cell_type": "code",
   "execution_count": 14,
   "id": "ac2fb6cf",
   "metadata": {},
   "outputs": [
    {
     "name": "stderr",
     "output_type": "stream",
     "text": [
      "/Users/lilit/anaconda3/lib/python3.10/site-packages/sklearn/cluster/_kmeans.py:870: FutureWarning: The default value of `n_init` will change from 10 to 'auto' in 1.4. Set the value of `n_init` explicitly to suppress the warning\n",
      "  warnings.warn(\n"
     ]
    }
   ],
   "source": [
    "from sklearn.cluster import KMeans\n",
    "\n",
    "# Apply KMeans clustering\n",
    "# A method that works well for customer behavior clustering when features are numeric and scaled.\n",
    "kmeans = KMeans(n_clusters=4, random_state=42)\n",
    "data['segment'] = kmeans.fit_predict(X_scaled)\n"
   ]
  },
  {
   "cell_type": "code",
   "execution_count": 15,
   "id": "2582d499",
   "metadata": {},
   "outputs": [
    {
     "data": {
      "text/plain": [
       "0    840\n",
       "1    960\n",
       "2    646\n",
       "3    229\n",
       "Name: segment, dtype: int64"
      ]
     },
     "execution_count": 15,
     "metadata": {},
     "output_type": "execute_result"
    }
   ],
   "source": [
    "data['segment'].value_counts().sort_index()\n"
   ]
  },
  {
   "cell_type": "code",
   "execution_count": 16,
   "id": "d18da7bc",
   "metadata": {},
   "outputs": [
    {
     "data": {
      "image/png": "[encoded data removed]",
      "text/plain": [
       "<Figure size 640x480 with 1 Axes>"
      ]
     },
     "metadata": {},
     "output_type": "display_data"
    }
   ],
   "source": [
    "import seaborn as sns\n",
    "import matplotlib.pyplot as plt\n",
    "\n",
    "# Conversion rate by segment\n",
    "sns.barplot(x='segment', y='deposit', data=data)\n",
    "plt.title('Deposit Conversion Rate by Segment')\n",
    "plt.xlabel('Customer Segment')\n",
    "plt.ylabel('Conversion Rate')\n",
    "plt.ylim(0, 1)\n",
    "plt.grid(True)\n",
    "plt.show()\n"
   ]
  },
  {
   "cell_type": "code",
   "execution_count": 17,
   "id": "457673c2",
   "metadata": {},
   "outputs": [
    {
     "name": "stdout",
     "output_type": "stream",
     "text": [
      "               age      balance    duration  campaign  previous   deposit\n",
      "segment                                                                  \n",
      "0        39.707143  2163.384524  341.184524  1.929762  3.180952  0.728571\n",
      "1        43.208333  1390.302083  353.097917  1.896875  3.390625  0.589583\n",
      "2        32.009288  1441.247678  329.540248  1.948916  3.363777  0.643963\n",
      "3        67.842795  3106.104803  410.218341  1.646288  3.152838  0.838428\n"
     ]
    }
   ],
   "source": [
    "# Profile the segments by key averages\n",
    "segment_profile = data.groupby('segment')[['age', 'balance', 'duration', 'campaign', 'previous', 'deposit']].mean()\n",
    "print(segment_profile)\n"
   ]
  },
  {
   "cell_type": "markdown",
   "id": "23cbe01d",
   "metadata": {},
   "source": [
    "From the segmentation results, **Segment 3** emerged as the most responsive group, with an average deposit conversion rate of **83.8%** — significantly above the overall average.\n",
    "\n",
    "This segment is characterized by:\n",
    "- Older customers (avg. age ≈ 68)\n",
    "- High account balances\n",
    "- Longer duration of interaction\n",
    "- Fewer campaign touches (indicating lower fatigue)\n",
    "\n",
    "These traits suggest that this group is both **financially stable** and **highly engaged**, making them ideal for personalized campaigns aimed at long-term retention and value generation.\n"
   ]
  },
  {
   "cell_type": "code",
   "execution_count": 18,
   "id": "86fca949",
   "metadata": {
    "scrolled": true
   },
   "outputs": [
    {
     "name": "stdout",
     "output_type": "stream",
     "text": [
      "segment\n",
      "3    0.838428\n",
      "0    0.728571\n",
      "2    0.643963\n",
      "1    0.589583\n",
      "Name: deposit, dtype: float64\n"
     ]
    }
   ],
   "source": [
    "# Average conversion rate by segment\n",
    "segment_perf = data.groupby('segment')['deposit'].mean().sort_values(ascending=False)\n",
    "print(segment_perf)\n"
   ]
  },
  {
   "cell_type": "markdown",
   "id": "ee34b89b",
   "metadata": {},
   "source": [
    "### A/B Test"
   ]
  },
  {
   "cell_type": "markdown",
   "id": "6ef7380a",
   "metadata": {},
   "source": [
    "Because I cannot share actual test/control campaign reults, I used a simplified simulation to demonstrate the structure and logic of an A/B test based on segmentation"
   ]
  },
  {
   "cell_type": "code",
   "execution_count": 19,
   "id": "2a7a9f05",
   "metadata": {},
   "outputs": [],
   "source": [
    "# Get the most responsive segment (e.g., Segment 3)\n",
    "top_segment = segment_perf.index[0]\n",
    "segment_data = data[data['segment'] == top_segment].copy()\n",
    "\n",
    "# Randomly split this segment into control and test groups\n",
    "np.random.seed(42)\n",
    "segment_data['group'] = np.random.choice(['A', 'B'], size=len(segment_data))\n",
    "\n",
    "# Simulate the marketing effect for b\n",
    "segment_data['simulated_response'] = segment_data.apply(\n",
    "    lambda row: row['deposit'] if row['group'] == 'B' else int(np.random.rand() < 0.7 * row['deposit']),\n",
    "    axis=1\n",
    ")\n"
   ]
  },
  {
   "cell_type": "code",
   "execution_count": 20,
   "id": "56095f96",
   "metadata": {},
   "outputs": [
    {
     "name": "stdout",
     "output_type": "stream",
     "text": [
      "           mean  count\n",
      "group                 \n",
      "A      0.572650    117\n",
      "B      0.866071    112\n"
     ]
    }
   ],
   "source": [
    "ab_results = segment_data.groupby('group')['simulated_response'].agg(['mean', 'count'])\n",
    "print(ab_results)\n"
   ]
  },
  {
   "cell_type": "markdown",
   "id": "39ed652d",
   "metadata": {},
   "source": [
    "The targeted group (B) outperformed the control group (A) by 29.3 percentage points, suggesting that targeting high-value segments can significantly improve campaign effectiveness."
   ]
  },
  {
   "cell_type": "code",
   "execution_count": null,
   "id": "5e89bc1d",
   "metadata": {},
   "outputs": [],
   "source": [
    "sns.barplot(data=segment_data, x='group', y='simulated_response')\n",
    "plt.title('Simulated A/B Test Results')\n",
    "plt.ylabel('Conversion Rate')\n",
    "plt.xlabel('Group')\n",
    "plt.ylim(0, 1)\n",
    "plt.grid(True)\n",
    "plt.show()\n"
   ]
  },
  {
   "cell_type": "markdown",
   "id": "c9df453e",
   "metadata": {},
   "source": [
    "In a real-world marketing analytics or CRM environment, I would:\n",
    "\n",
    "- Use actual campaign response logs to define control/test groups\n",
    "\n",
    "- Incorporate temporal features (e.g., last purchase, days since signup)\n",
    "\n",
    "- Run the test with holdout validation and evaluate using lift charts, p-values, confidence intervals\n",
    "\n",
    "- Deploy uplift scoring models into production to automate targeting"
   ]
  },
  {
   "cell_type": "code",
   "execution_count": null,
   "id": "b69f5819",
   "metadata": {},
   "outputs": [],
   "source": []
  }
 ],
 "metadata": {
  "kernelspec": {
   "display_name": "Python 3 (ipykernel)",
   "language": "python",
   "name": "python3"
  },
  "language_info": {
   "codemirror_mode": {
    "name": "ipython",
    "version": 3
   },
   "file_extension": ".py",
   "mimetype": "text/x-python",
   "name": "python",
   "nbconvert_exporter": "python",
   "pygments_lexer": "ipython3",
   "version": "3.10.9"
  }
 },
 "nbformat": 4,
 "nbformat_minor": 5
}
